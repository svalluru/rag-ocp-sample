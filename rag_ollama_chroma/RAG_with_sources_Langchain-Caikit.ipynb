{
 "cells": [
  {
   "cell_type": "markdown",
   "id": "5efb44b5-ffd8-4846-bf43-0baba85c4738",
   "metadata": {
    "tags": []
   },
   "source": [
    "## Example of querying a set of documents with sources using Caikit-TGIS with Llama2, Langchain and a custom prompt"
   ]
  },
  {
   "cell_type": "code",
   "execution_count": 1,
   "id": "c4b6b934-cdd5-4b40-9ba3-5cedb65f707b",
   "metadata": {
    "tags": []
   },
   "outputs": [
    {
     "name": "stdout",
     "output_type": "stream",
     "text": [
      "Collecting evaluate\n",
      "  Obtaining dependency information for evaluate from https://files.pythonhosted.org/packages/70/63/7644a1eb7b0297e585a6adec98ed9e575309bb973c33b394dae66bc35c69/evaluate-0.4.1-py3-none-any.whl.metadata\n",
      "  Downloading evaluate-0.4.1-py3-none-any.whl.metadata (9.4 kB)\n",
      "Collecting datasets>=2.0.0 (from evaluate)\n",
      "  Obtaining dependency information for datasets>=2.0.0 from https://files.pythonhosted.org/packages/89/a9/8e097f79d2941a2f96e33f57032957429a79f66c8252ac7fcce586a43406/datasets-2.19.0-py3-none-any.whl.metadata\n",
      "  Downloading datasets-2.19.0-py3-none-any.whl.metadata (19 kB)\n",
      "Requirement already satisfied: numpy>=1.17 in /opt/app-root/lib64/python3.11/site-packages (from evaluate) (1.24.4)\n",
      "Requirement already satisfied: dill in /opt/app-root/lib64/python3.11/site-packages (from evaluate) (0.3.7)\n",
      "Requirement already satisfied: pandas in /opt/app-root/lib64/python3.11/site-packages (from evaluate) (2.0.3)\n",
      "Requirement already satisfied: requests>=2.19.0 in /opt/app-root/lib64/python3.11/site-packages (from evaluate) (2.31.0)\n",
      "Requirement already satisfied: tqdm>=4.62.1 in /opt/app-root/lib64/python3.11/site-packages (from evaluate) (4.66.1)\n",
      "Collecting xxhash (from evaluate)\n",
      "  Obtaining dependency information for xxhash from https://files.pythonhosted.org/packages/eb/3a/25c4aecb61a49d4415fd71d4f66a8a5b558dd44a52d7054ea9aa59ccbac1/xxhash-3.4.1-cp311-cp311-manylinux_2_17_x86_64.manylinux2014_x86_64.whl.metadata\n",
      "  Downloading xxhash-3.4.1-cp311-cp311-manylinux_2_17_x86_64.manylinux2014_x86_64.whl.metadata (12 kB)\n",
      "Collecting multiprocess (from evaluate)\n",
      "  Obtaining dependency information for multiprocess from https://files.pythonhosted.org/packages/50/15/b56e50e8debaf439f44befec5b2af11db85f6e0f344c3113ae0be0593a91/multiprocess-0.70.16-py311-none-any.whl.metadata\n",
      "  Downloading multiprocess-0.70.16-py311-none-any.whl.metadata (7.2 kB)\n",
      "Requirement already satisfied: fsspec[http]>=2021.05.0 in /opt/app-root/lib64/python3.11/site-packages (from evaluate) (2023.9.2)\n",
      "Requirement already satisfied: huggingface-hub>=0.7.0 in /opt/app-root/lib64/python3.11/site-packages (from evaluate) (0.16.4)\n",
      "Requirement already satisfied: packaging in /opt/app-root/lib64/python3.11/site-packages (from evaluate) (23.1)\n",
      "Collecting responses<0.19 (from evaluate)\n",
      "  Obtaining dependency information for responses<0.19 from https://files.pythonhosted.org/packages/79/f3/2b3a6dc5986303b3dd1bbbcf482022acb2583c428cd23f0b6d37b1a1a519/responses-0.18.0-py3-none-any.whl.metadata\n",
      "  Downloading responses-0.18.0-py3-none-any.whl.metadata (29 kB)\n",
      "Requirement already satisfied: filelock in /opt/app-root/lib64/python3.11/site-packages (from datasets>=2.0.0->evaluate) (3.12.4)\n",
      "Collecting pyarrow>=12.0.0 (from datasets>=2.0.0->evaluate)\n",
      "  Obtaining dependency information for pyarrow>=12.0.0 from https://files.pythonhosted.org/packages/d5/73/d5588e2bd671aabe02e1e11b12966fa1a066767b20340885964f5d4e1862/pyarrow-16.0.0-cp311-cp311-manylinux_2_28_x86_64.whl.metadata\n",
      "  Downloading pyarrow-16.0.0-cp311-cp311-manylinux_2_28_x86_64.whl.metadata (3.0 kB)\n",
      "Collecting pyarrow-hotfix (from datasets>=2.0.0->evaluate)\n",
      "  Obtaining dependency information for pyarrow-hotfix from https://files.pythonhosted.org/packages/e4/f4/9ec2222f5f5f8ea04f66f184caafd991a39c8782e31f5b0266f101cb68ca/pyarrow_hotfix-0.6-py3-none-any.whl.metadata\n",
      "  Downloading pyarrow_hotfix-0.6-py3-none-any.whl.metadata (3.6 kB)\n",
      "Requirement already satisfied: aiohttp in /opt/app-root/lib64/python3.11/site-packages (from datasets>=2.0.0->evaluate) (3.8.5)\n",
      "Collecting huggingface-hub>=0.7.0 (from evaluate)\n",
      "  Obtaining dependency information for huggingface-hub>=0.7.0 from https://files.pythonhosted.org/packages/05/c0/779afbad8e75565c09ffa24a88b5dd7e293c92b74eb09df6435fc58ac986/huggingface_hub-0.22.2-py3-none-any.whl.metadata\n",
      "  Downloading huggingface_hub-0.22.2-py3-none-any.whl.metadata (12 kB)\n",
      "Requirement already satisfied: pyyaml>=5.1 in /opt/app-root/lib64/python3.11/site-packages (from datasets>=2.0.0->evaluate) (6.0.1)\n",
      "Requirement already satisfied: typing-extensions>=3.7.4.3 in /opt/app-root/lib64/python3.11/site-packages (from huggingface-hub>=0.7.0->evaluate) (4.8.0)\n",
      "Requirement already satisfied: charset-normalizer<4,>=2 in /opt/app-root/lib64/python3.11/site-packages (from requests>=2.19.0->evaluate) (3.2.0)\n",
      "Requirement already satisfied: idna<4,>=2.5 in /opt/app-root/lib64/python3.11/site-packages (from requests>=2.19.0->evaluate) (3.4)\n",
      "Requirement already satisfied: urllib3<3,>=1.21.1 in /opt/app-root/lib64/python3.11/site-packages (from requests>=2.19.0->evaluate) (1.26.16)\n",
      "Requirement already satisfied: certifi>=2017.4.17 in /opt/app-root/lib64/python3.11/site-packages (from requests>=2.19.0->evaluate) (2023.7.22)\n",
      "Collecting dill (from evaluate)\n",
      "  Obtaining dependency information for dill from https://files.pythonhosted.org/packages/c9/7a/cef76fd8438a42f96db64ddaa85280485a9c395e7df3db8158cfec1eee34/dill-0.3.8-py3-none-any.whl.metadata\n",
      "  Downloading dill-0.3.8-py3-none-any.whl.metadata (10 kB)\n",
      "Requirement already satisfied: python-dateutil>=2.8.2 in /opt/app-root/lib64/python3.11/site-packages (from pandas->evaluate) (2.8.2)\n",
      "Requirement already satisfied: pytz>=2020.1 in /opt/app-root/lib64/python3.11/site-packages (from pandas->evaluate) (2023.3.post1)\n",
      "Requirement already satisfied: tzdata>=2022.1 in /opt/app-root/lib64/python3.11/site-packages (from pandas->evaluate) (2023.3)\n",
      "Requirement already satisfied: attrs>=17.3.0 in /opt/app-root/lib64/python3.11/site-packages (from aiohttp->datasets>=2.0.0->evaluate) (23.1.0)\n",
      "Requirement already satisfied: multidict<7.0,>=4.5 in /opt/app-root/lib64/python3.11/site-packages (from aiohttp->datasets>=2.0.0->evaluate) (6.0.4)\n",
      "Requirement already satisfied: async-timeout<5.0,>=4.0.0a3 in /opt/app-root/lib64/python3.11/site-packages (from aiohttp->datasets>=2.0.0->evaluate) (4.0.3)\n",
      "Requirement already satisfied: yarl<2.0,>=1.0 in /opt/app-root/lib64/python3.11/site-packages (from aiohttp->datasets>=2.0.0->evaluate) (1.9.2)\n",
      "Requirement already satisfied: frozenlist>=1.1.1 in /opt/app-root/lib64/python3.11/site-packages (from aiohttp->datasets>=2.0.0->evaluate) (1.4.0)\n",
      "Requirement already satisfied: aiosignal>=1.1.2 in /opt/app-root/lib64/python3.11/site-packages (from aiohttp->datasets>=2.0.0->evaluate) (1.3.1)\n",
      "Requirement already satisfied: six>=1.5 in /opt/app-root/lib64/python3.11/site-packages (from python-dateutil>=2.8.2->pandas->evaluate) (1.16.0)\n",
      "Downloading evaluate-0.4.1-py3-none-any.whl (84 kB)\n",
      "\u001b[2K   \u001b[90m━━━━━━━━━━━━━━━━━━━━━━━━━━━━━━━━━━━━━━━━\u001b[0m \u001b[32m84.1/84.1 kB\u001b[0m \u001b[31m7.9 MB/s\u001b[0m eta \u001b[36m0:00:00\u001b[0m\n",
      "\u001b[?25hDownloading datasets-2.19.0-py3-none-any.whl (542 kB)\n",
      "\u001b[2K   \u001b[90m━━━━━━━━━━━━━━━━━━━━━━━━━━━━━━━━━━━━━━━━\u001b[0m \u001b[32m542.0/542.0 kB\u001b[0m \u001b[31m24.6 MB/s\u001b[0m eta \u001b[36m0:00:00\u001b[0m\n",
      "\u001b[?25hDownloading huggingface_hub-0.22.2-py3-none-any.whl (388 kB)\n",
      "\u001b[2K   \u001b[90m━━━━━━━━━━━━━━━━━━━━━━━━━━━━━━━━━━━━━━━\u001b[0m \u001b[32m388.9/388.9 kB\u001b[0m \u001b[31m333.9 MB/s\u001b[0m eta \u001b[36m0:00:00\u001b[0m\n",
      "\u001b[?25hDownloading responses-0.18.0-py3-none-any.whl (38 kB)\n",
      "Downloading multiprocess-0.70.16-py311-none-any.whl (143 kB)\n",
      "\u001b[2K   \u001b[90m━━━━━━━━━━━━━━━━━━━━━━━━━━━━━━━━━━━━━━━\u001b[0m \u001b[32m143.5/143.5 kB\u001b[0m \u001b[31m317.8 MB/s\u001b[0m eta \u001b[36m0:00:00\u001b[0m\n",
      "\u001b[?25hDownloading dill-0.3.8-py3-none-any.whl (116 kB)\n",
      "\u001b[2K   \u001b[90m━━━━━━━━━━━━━━━━━━━━━━━━━━━━━━━━━━━━━━━\u001b[0m \u001b[32m116.3/116.3 kB\u001b[0m \u001b[31m318.5 MB/s\u001b[0m eta \u001b[36m0:00:00\u001b[0m\n",
      "\u001b[?25hDownloading xxhash-3.4.1-cp311-cp311-manylinux_2_17_x86_64.manylinux2014_x86_64.whl (194 kB)\n",
      "\u001b[2K   \u001b[90m━━━━━━━━━━━━━━━━━━━━━━━━━━━━━━━━━━━━━━━\u001b[0m \u001b[32m194.8/194.8 kB\u001b[0m \u001b[31m343.0 MB/s\u001b[0m eta \u001b[36m0:00:00\u001b[0m\n",
      "\u001b[?25hDownloading pyarrow-16.0.0-cp311-cp311-manylinux_2_28_x86_64.whl (40.8 MB)\n",
      "\u001b[2K   \u001b[90m━━━━━━━━━━━━━━━━━━━━━━━━━━━━━━━━━━━━━━━━\u001b[0m \u001b[32m40.8/40.8 MB\u001b[0m \u001b[31m196.3 MB/s\u001b[0m eta \u001b[36m0:00:00\u001b[0ma \u001b[36m0:00:01\u001b[0m\n",
      "\u001b[?25hDownloading pyarrow_hotfix-0.6-py3-none-any.whl (7.9 kB)\n",
      "Installing collected packages: xxhash, pyarrow-hotfix, pyarrow, dill, responses, multiprocess, huggingface-hub, datasets, evaluate\n",
      "  Attempting uninstall: dill\n",
      "    Found existing installation: dill 0.3.7\n",
      "    Uninstalling dill-0.3.7:\n",
      "      Successfully uninstalled dill-0.3.7\n",
      "  Attempting uninstall: huggingface-hub\n",
      "    Found existing installation: huggingface-hub 0.16.4\n",
      "    Uninstalling huggingface-hub-0.16.4:\n",
      "      Successfully uninstalled huggingface-hub-0.16.4\n",
      "Successfully installed datasets-2.19.0 dill-0.3.8 evaluate-0.4.1 huggingface-hub-0.22.2 multiprocess-0.70.16 pyarrow-16.0.0 pyarrow-hotfix-0.6 responses-0.18.0 xxhash-3.4.1\n",
      "\n",
      "\u001b[1m[\u001b[0m\u001b[34;49mnotice\u001b[0m\u001b[1;39;49m]\u001b[0m\u001b[39;49m A new release of pip is available: \u001b[0m\u001b[31;49m23.2.1\u001b[0m\u001b[39;49m -> \u001b[0m\u001b[32;49m24.0\u001b[0m\n",
      "\u001b[1m[\u001b[0m\u001b[34;49mnotice\u001b[0m\u001b[1;39;49m]\u001b[0m\u001b[39;49m To update, run: \u001b[0m\u001b[32;49mpip install --upgrade pip\u001b[0m\n",
      "Collecting rouge_score\n",
      "  Downloading rouge_score-0.1.2.tar.gz (17 kB)\n",
      "  Preparing metadata (setup.py) ... \u001b[?25ldone\n",
      "\u001b[?25hRequirement already satisfied: absl-py in /opt/app-root/lib64/python3.11/site-packages (from rouge_score) (1.4.0)\n",
      "Requirement already satisfied: nltk in /opt/app-root/lib64/python3.11/site-packages (from rouge_score) (3.8.1)\n",
      "Requirement already satisfied: numpy in /opt/app-root/lib64/python3.11/site-packages (from rouge_score) (1.24.4)\n",
      "Requirement already satisfied: six>=1.14.0 in /opt/app-root/lib64/python3.11/site-packages (from rouge_score) (1.16.0)\n",
      "Requirement already satisfied: click in /opt/app-root/lib64/python3.11/site-packages (from nltk->rouge_score) (8.1.7)\n",
      "Requirement already satisfied: joblib in /opt/app-root/lib64/python3.11/site-packages (from nltk->rouge_score) (1.3.2)\n",
      "Requirement already satisfied: regex>=2021.8.3 in /opt/app-root/lib64/python3.11/site-packages (from nltk->rouge_score) (2023.8.8)\n",
      "Requirement already satisfied: tqdm in /opt/app-root/lib64/python3.11/site-packages (from nltk->rouge_score) (4.66.1)\n",
      "Building wheels for collected packages: rouge_score\n",
      "  Building wheel for rouge_score (setup.py) ... \u001b[?25ldone\n",
      "\u001b[?25h  Created wheel for rouge_score: filename=rouge_score-0.1.2-py3-none-any.whl size=24932 sha256=dd3d6d7793e31b73e66e599ce82994c0bc5b816ca618b5d004ea7c4e9dd116a6\n",
      "  Stored in directory: /tmp/pip-ephem-wheel-cache-hnnys5zg/wheels/1e/19/43/8a442dc83660ca25e163e1bd1f89919284ab0d0c1475475148\n",
      "Successfully built rouge_score\n",
      "Installing collected packages: rouge_score\n",
      "Successfully installed rouge_score-0.1.2\n",
      "\n",
      "\u001b[1m[\u001b[0m\u001b[34;49mnotice\u001b[0m\u001b[1;39;49m]\u001b[0m\u001b[39;49m A new release of pip is available: \u001b[0m\u001b[31;49m23.2.1\u001b[0m\u001b[39;49m -> \u001b[0m\u001b[32;49m24.0\u001b[0m\n",
      "\u001b[1m[\u001b[0m\u001b[34;49mnotice\u001b[0m\u001b[1;39;49m]\u001b[0m\u001b[39;49m To update, run: \u001b[0m\u001b[32;49mpip install --upgrade pip\u001b[0m\n",
      "Requirement already satisfied: chromadb in /opt/app-root/lib64/python3.11/site-packages (0.3.29)\n",
      "Requirement already satisfied: pandas>=1.3 in /opt/app-root/lib64/python3.11/site-packages (from chromadb) (2.0.3)\n",
      "Requirement already satisfied: requests>=2.28 in /opt/app-root/lib64/python3.11/site-packages (from chromadb) (2.31.0)\n",
      "Requirement already satisfied: pydantic<2.0,>=1.9 in /opt/app-root/lib64/python3.11/site-packages (from chromadb) (1.10.12)\n",
      "Requirement already satisfied: hnswlib>=0.7 in /opt/app-root/lib64/python3.11/site-packages (from chromadb) (0.7.0)\n",
      "Requirement already satisfied: clickhouse-connect>=0.5.7 in /opt/app-root/lib64/python3.11/site-packages (from chromadb) (0.6.14)\n",
      "Requirement already satisfied: duckdb>=0.7.1 in /opt/app-root/lib64/python3.11/site-packages (from chromadb) (0.8.1)\n",
      "Requirement already satisfied: fastapi==0.85.1 in /opt/app-root/lib64/python3.11/site-packages (from chromadb) (0.85.1)\n",
      "Requirement already satisfied: uvicorn[standard]>=0.18.3 in /opt/app-root/lib64/python3.11/site-packages (from chromadb) (0.23.2)\n",
      "Requirement already satisfied: numpy>=1.21.6 in /opt/app-root/lib64/python3.11/site-packages (from chromadb) (1.24.4)\n",
      "Requirement already satisfied: posthog>=2.4.0 in /opt/app-root/lib64/python3.11/site-packages (from chromadb) (3.0.2)\n",
      "Requirement already satisfied: typing-extensions>=4.5.0 in /opt/app-root/lib64/python3.11/site-packages (from chromadb) (4.8.0)\n",
      "Requirement already satisfied: pulsar-client>=3.1.0 in /opt/app-root/lib64/python3.11/site-packages (from chromadb) (3.3.0)\n",
      "Requirement already satisfied: onnxruntime>=1.14.1 in /opt/app-root/lib64/python3.11/site-packages (from chromadb) (1.16.0)\n",
      "Requirement already satisfied: tokenizers>=0.13.2 in /opt/app-root/lib64/python3.11/site-packages (from chromadb) (0.13.3)\n",
      "Requirement already satisfied: tqdm>=4.65.0 in /opt/app-root/lib64/python3.11/site-packages (from chromadb) (4.66.1)\n",
      "Requirement already satisfied: overrides>=7.3.1 in /opt/app-root/lib64/python3.11/site-packages (from chromadb) (7.4.0)\n",
      "Requirement already satisfied: starlette==0.20.4 in /opt/app-root/lib64/python3.11/site-packages (from fastapi==0.85.1->chromadb) (0.20.4)\n",
      "Requirement already satisfied: anyio<5,>=3.4.0 in /opt/app-root/lib64/python3.11/site-packages (from starlette==0.20.4->fastapi==0.85.1->chromadb) (3.7.1)\n",
      "Requirement already satisfied: certifi in /opt/app-root/lib64/python3.11/site-packages (from clickhouse-connect>=0.5.7->chromadb) (2023.7.22)\n",
      "Requirement already satisfied: urllib3>=1.26 in /opt/app-root/lib64/python3.11/site-packages (from clickhouse-connect>=0.5.7->chromadb) (1.26.16)\n",
      "Requirement already satisfied: pytz in /opt/app-root/lib64/python3.11/site-packages (from clickhouse-connect>=0.5.7->chromadb) (2023.3.post1)\n",
      "Requirement already satisfied: zstandard in /opt/app-root/lib64/python3.11/site-packages (from clickhouse-connect>=0.5.7->chromadb) (0.21.0)\n",
      "Requirement already satisfied: lz4 in /opt/app-root/lib64/python3.11/site-packages (from clickhouse-connect>=0.5.7->chromadb) (4.3.2)\n",
      "Requirement already satisfied: coloredlogs in /opt/app-root/lib64/python3.11/site-packages (from onnxruntime>=1.14.1->chromadb) (15.0.1)\n",
      "Requirement already satisfied: flatbuffers in /opt/app-root/lib64/python3.11/site-packages (from onnxruntime>=1.14.1->chromadb) (23.5.26)\n",
      "Requirement already satisfied: packaging in /opt/app-root/lib64/python3.11/site-packages (from onnxruntime>=1.14.1->chromadb) (23.1)\n",
      "Requirement already satisfied: protobuf in /opt/app-root/lib64/python3.11/site-packages (from onnxruntime>=1.14.1->chromadb) (3.20.3)\n",
      "Requirement already satisfied: sympy in /opt/app-root/lib64/python3.11/site-packages (from onnxruntime>=1.14.1->chromadb) (1.12)\n",
      "Requirement already satisfied: python-dateutil>=2.8.2 in /opt/app-root/lib64/python3.11/site-packages (from pandas>=1.3->chromadb) (2.8.2)\n",
      "Requirement already satisfied: tzdata>=2022.1 in /opt/app-root/lib64/python3.11/site-packages (from pandas>=1.3->chromadb) (2023.3)\n",
      "Requirement already satisfied: six>=1.5 in /opt/app-root/lib64/python3.11/site-packages (from posthog>=2.4.0->chromadb) (1.16.0)\n",
      "Requirement already satisfied: monotonic>=1.5 in /opt/app-root/lib64/python3.11/site-packages (from posthog>=2.4.0->chromadb) (1.6)\n",
      "Requirement already satisfied: backoff>=1.10.0 in /opt/app-root/lib64/python3.11/site-packages (from posthog>=2.4.0->chromadb) (2.2.1)\n",
      "Requirement already satisfied: charset-normalizer<4,>=2 in /opt/app-root/lib64/python3.11/site-packages (from requests>=2.28->chromadb) (3.2.0)\n",
      "Requirement already satisfied: idna<4,>=2.5 in /opt/app-root/lib64/python3.11/site-packages (from requests>=2.28->chromadb) (3.4)\n",
      "Requirement already satisfied: click>=7.0 in /opt/app-root/lib64/python3.11/site-packages (from uvicorn[standard]>=0.18.3->chromadb) (8.1.7)\n",
      "Requirement already satisfied: h11>=0.8 in /opt/app-root/lib64/python3.11/site-packages (from uvicorn[standard]>=0.18.3->chromadb) (0.14.0)\n",
      "Requirement already satisfied: httptools>=0.5.0 in /opt/app-root/lib64/python3.11/site-packages (from uvicorn[standard]>=0.18.3->chromadb) (0.6.0)\n",
      "Requirement already satisfied: python-dotenv>=0.13 in /opt/app-root/lib64/python3.11/site-packages (from uvicorn[standard]>=0.18.3->chromadb) (1.0.0)\n",
      "Requirement already satisfied: pyyaml>=5.1 in /opt/app-root/lib64/python3.11/site-packages (from uvicorn[standard]>=0.18.3->chromadb) (6.0.1)\n",
      "Requirement already satisfied: uvloop!=0.15.0,!=0.15.1,>=0.14.0 in /opt/app-root/lib64/python3.11/site-packages (from uvicorn[standard]>=0.18.3->chromadb) (0.17.0)\n",
      "Requirement already satisfied: watchfiles>=0.13 in /opt/app-root/lib64/python3.11/site-packages (from uvicorn[standard]>=0.18.3->chromadb) (0.20.0)\n",
      "Requirement already satisfied: websockets>=10.4 in /opt/app-root/lib64/python3.11/site-packages (from uvicorn[standard]>=0.18.3->chromadb) (11.0.3)\n",
      "Requirement already satisfied: humanfriendly>=9.1 in /opt/app-root/lib64/python3.11/site-packages (from coloredlogs->onnxruntime>=1.14.1->chromadb) (10.0)\n",
      "Requirement already satisfied: mpmath>=0.19 in /opt/app-root/lib64/python3.11/site-packages (from sympy->onnxruntime>=1.14.1->chromadb) (1.3.0)\n",
      "Requirement already satisfied: sniffio>=1.1 in /opt/app-root/lib64/python3.11/site-packages (from anyio<5,>=3.4.0->starlette==0.20.4->fastapi==0.85.1->chromadb) (1.3.0)\n",
      "\n",
      "\u001b[1m[\u001b[0m\u001b[34;49mnotice\u001b[0m\u001b[1;39;49m]\u001b[0m\u001b[39;49m A new release of pip is available: \u001b[0m\u001b[31;49m23.2.1\u001b[0m\u001b[39;49m -> \u001b[0m\u001b[32;49m24.0\u001b[0m\n",
      "\u001b[1m[\u001b[0m\u001b[34;49mnotice\u001b[0m\u001b[1;39;49m]\u001b[0m\u001b[39;49m To update, run: \u001b[0m\u001b[32;49mpip install --upgrade pip\u001b[0m\n",
      "Collecting git+https://github.com/caikit/caikit@v0.11.3\n",
      "  Cloning https://github.com/caikit/caikit (to revision v0.11.3) to /tmp/pip-req-build-u3zeoxuu\n",
      "  Running command git clone --filter=blob:none --quiet https://github.com/caikit/caikit /tmp/pip-req-build-u3zeoxuu\n",
      "  Running command git checkout -q da1dc8fa7df4f9e9ba5a5b7d926cb38b9e2f1757\n",
      "  Resolved https://github.com/caikit/caikit to commit da1dc8fa7df4f9e9ba5a5b7d926cb38b9e2f1757\n",
      "  Installing build dependencies ... \u001b[?25ldone\n",
      "\u001b[?25h  Getting requirements to build wheel ... \u001b[?25ldone\n",
      "\u001b[?25h  Preparing metadata (pyproject.toml) ... \u001b[?25ldone\n",
      "\u001b[?25hCollecting alchemy-config<2.0.0,>=1.1.1 (from caikit==0.0.1)\n",
      "  Obtaining dependency information for alchemy-config<2.0.0,>=1.1.1 from https://files.pythonhosted.org/packages/8d/fc/3fbc6f626ac76e2e1f8fbe6c36057451184a133cdcb4d509569b08f2e1a8/alchemy_config-1.1.3-py3-none-any.whl.metadata\n",
      "  Downloading alchemy_config-1.1.3-py3-none-any.whl.metadata (1.3 kB)\n",
      "Collecting alchemy-logging<2.0.0,>=1.0.4 (from caikit==0.0.1)\n",
      "  Obtaining dependency information for alchemy-logging<2.0.0,>=1.0.4 from https://files.pythonhosted.org/packages/0e/92/baa5754d52049a31ca6679ca2e3efedaf51cf3007cd1c6034a67533e392d/alchemy_logging-1.3.2-py3-none-any.whl.metadata\n",
      "  Downloading alchemy_logging-1.3.2-py3-none-any.whl.metadata (9.5 kB)\n",
      "Collecting anytree<3.0,>=2.7.0 (from caikit==0.0.1)\n",
      "  Obtaining dependency information for anytree<3.0,>=2.7.0 from https://files.pythonhosted.org/packages/6a/fb/ff946843e6b55ae9fda84df3964d6c233cd2261dface789f5be02ab79bc5/anytree-2.12.1-py3-none-any.whl.metadata\n",
      "  Downloading anytree-2.12.1-py3-none-any.whl.metadata (8.1 kB)\n",
      "Collecting docstring-parser<0.16.0,>=0.14.1 (from caikit==0.0.1)\n",
      "  Obtaining dependency information for docstring-parser<0.16.0,>=0.14.1 from https://files.pythonhosted.org/packages/89/e3/32e272db7adcf90e93f73e9a98fd763049ed7c641fb57ab26cb8f3e7e79c/docstring_parser-0.15-py3-none-any.whl.metadata\n",
      "  Downloading docstring_parser-0.15-py3-none-any.whl.metadata (2.4 kB)\n",
      "Requirement already satisfied: grpcio!=1.55.0,<2.0,>=1.35.0 in /opt/app-root/lib64/python3.11/site-packages (from caikit==0.0.1) (1.51.3)\n",
      "Collecting ijson<3.3.0,>=3.1.4 (from caikit==0.0.1)\n",
      "  Obtaining dependency information for ijson<3.3.0,>=3.1.4 from https://files.pythonhosted.org/packages/2c/cb/8deea644d652eef65b8a7105d11b1b9df812306b59b115c3d42b34764320/ijson-3.2.3-cp311-cp311-manylinux_2_17_x86_64.manylinux2014_x86_64.whl.metadata\n",
      "  Downloading ijson-3.2.3-cp311-cp311-manylinux_2_17_x86_64.manylinux2014_x86_64.whl.metadata (20 kB)\n",
      "Collecting munch<5.0,>=2.5.0 (from caikit==0.0.1)\n",
      "  Obtaining dependency information for munch<5.0,>=2.5.0 from https://files.pythonhosted.org/packages/56/b3/7c69b37f03260a061883bec0e7b05be7117c1b1c85f5212c72c8c2bc3c8c/munch-4.0.0-py2.py3-none-any.whl.metadata\n",
      "  Downloading munch-4.0.0-py2.py3-none-any.whl.metadata (5.9 kB)\n",
      "Requirement already satisfied: numpy<2,>=1.20 in /opt/app-root/lib64/python3.11/site-packages (from caikit==0.0.1) (1.24.4)\n",
      "Requirement already satisfied: protobuf<5,>=3.19.0 in /opt/app-root/lib64/python3.11/site-packages (from caikit==0.0.1) (3.20.3)\n",
      "Collecting py-to-proto!=0.2.1,<0.5.0,>=0.4.0 (from caikit==0.0.1)\n",
      "  Obtaining dependency information for py-to-proto!=0.2.1,<0.5.0,>=0.4.0 from https://files.pythonhosted.org/packages/e6/91/82beae21ab02cc7e552469bcef93fb30b1368d68782590f70e62920cc76d/py_to_proto-0.4.1-py311-none-any.whl.metadata\n",
      "  Downloading py_to_proto-0.4.1-py311-none-any.whl.metadata (6.8 kB)\n",
      "Requirement already satisfied: PyYAML<7.0,>=6.0 in /opt/app-root/lib64/python3.11/site-packages (from caikit==0.0.1) (6.0.1)\n",
      "Collecting semver<4.0,>=2.13.0 (from caikit==0.0.1)\n",
      "  Obtaining dependency information for semver<4.0,>=2.13.0 from https://files.pythonhosted.org/packages/9a/77/0cc7a8a3bc7e53d07e8f47f147b92b0960e902b8254859f4aee5c4d7866b/semver-3.0.2-py3-none-any.whl.metadata\n",
      "  Downloading semver-3.0.2-py3-none-any.whl.metadata (5.0 kB)\n",
      "Requirement already satisfied: six<2.0.0,>=1.16.0 in /opt/app-root/lib64/python3.11/site-packages (from caikit==0.0.1) (1.16.0)\n",
      "Requirement already satisfied: tqdm<5.0.0,>=4.59.0 in /opt/app-root/lib64/python3.11/site-packages (from caikit==0.0.1) (4.66.1)\n",
      "Downloading alchemy_config-1.1.3-py3-none-any.whl (7.3 kB)\n",
      "Downloading alchemy_logging-1.3.2-py3-none-any.whl (18 kB)\n",
      "Downloading anytree-2.12.1-py3-none-any.whl (44 kB)\n",
      "\u001b[2K   \u001b[90m━━━━━━━━━━━━━━━━━━━━━━━━━━━━━━━━━━━━━━━━\u001b[0m \u001b[32m44.9/44.9 kB\u001b[0m \u001b[31m4.2 MB/s\u001b[0m eta \u001b[36m0:00:00\u001b[0m\n",
      "\u001b[?25hDownloading docstring_parser-0.15-py3-none-any.whl (36 kB)\n",
      "Downloading ijson-3.2.3-cp311-cp311-manylinux_2_17_x86_64.manylinux2014_x86_64.whl (116 kB)\n",
      "\u001b[2K   \u001b[90m━━━━━━━━━━━━━━━━━━━━━━━━━━━━━━━━━━━━━━━━\u001b[0m \u001b[32m116.5/116.5 kB\u001b[0m \u001b[31m10.3 MB/s\u001b[0m eta \u001b[36m0:00:00\u001b[0m\n",
      "\u001b[?25hDownloading munch-4.0.0-py2.py3-none-any.whl (9.9 kB)\n",
      "Downloading py_to_proto-0.4.1-py311-none-any.whl (32 kB)\n",
      "Downloading semver-3.0.2-py3-none-any.whl (17 kB)\n",
      "Building wheels for collected packages: caikit\n",
      "  Building wheel for caikit (pyproject.toml) ... \u001b[?25ldone\n",
      "\u001b[?25h  Created wheel for caikit: filename=caikit-0.0.1-py3-none-any.whl size=288707 sha256=2afcea846cf15584dc7085e868227bf93cbe51917248bcd85872270604d1b204\n",
      "  Stored in directory: /tmp/pip-ephem-wheel-cache-tche0t46/wheels/e5/ab/f4/811007e3644f1571c468177c197f0f9cccee09415500b16c50\n",
      "Successfully built caikit\n",
      "Installing collected packages: ijson, alchemy-logging, semver, py-to-proto, munch, docstring-parser, anytree, alchemy-config, caikit\n",
      "  Attempting uninstall: docstring-parser\n",
      "    Found existing installation: docstring-parser 0.8.1\n",
      "    Uninstalling docstring-parser-0.8.1:\n",
      "      Successfully uninstalled docstring-parser-0.8.1\n",
      "\u001b[31mERROR: pip's dependency resolver does not currently take into account all the packages that are installed. This behaviour is the source of the following dependency conflicts.\n",
      "codeflare-torchx 0.6.0.dev1 requires docstring-parser==0.8.1, but you have docstring-parser 0.15 which is incompatible.\u001b[0m\u001b[31m\n",
      "\u001b[0mSuccessfully installed alchemy-config-1.1.3 alchemy-logging-1.3.2 anytree-2.12.1 caikit-0.0.1 docstring-parser-0.15 ijson-3.2.3 munch-4.0.0 py-to-proto-0.4.1 semver-3.0.2\n",
      "\n",
      "\u001b[1m[\u001b[0m\u001b[34;49mnotice\u001b[0m\u001b[1;39;49m]\u001b[0m\u001b[39;49m A new release of pip is available: \u001b[0m\u001b[31;49m23.2.1\u001b[0m\u001b[39;49m -> \u001b[0m\u001b[32;49m24.0\u001b[0m\n",
      "\u001b[1m[\u001b[0m\u001b[34;49mnotice\u001b[0m\u001b[1;39;49m]\u001b[0m\u001b[39;49m To update, run: \u001b[0m\u001b[32;49mpip install --upgrade pip\u001b[0m\n",
      "Collecting git+https://github.com/caikit/caikit-nlp\n",
      "  Cloning https://github.com/caikit/caikit-nlp to /tmp/pip-req-build-g3uo_bka\n",
      "  Running command git clone --filter=blob:none --quiet https://github.com/caikit/caikit-nlp /tmp/pip-req-build-g3uo_bka\n",
      "  Resolved https://github.com/caikit/caikit-nlp to commit c12cb824363b35b9c652d6c815d33e47cb1fe98c\n",
      "  Installing build dependencies ... \u001b[?25ldone\n",
      "\u001b[?25h  Getting requirements to build wheel ... \u001b[?25ldone\n",
      "\u001b[?25h  Installing backend dependencies ... \u001b[?25ldone\n",
      "\u001b[?25h  Preparing metadata (pyproject.toml) ... \u001b[?25ldone\n",
      "\u001b[?25hCollecting caikit[runtime-grpc,runtime-http]<0.27.0,>=0.26.17 (from caikit-nlp==0.4.9.dev2+gc12cb82)\n",
      "  Obtaining dependency information for caikit[runtime-grpc,runtime-http]<0.27.0,>=0.26.17 from https://files.pythonhosted.org/packages/68/50/a3736434c2bc12a34fad93d60dbb7df00bb53376006cc02eabd167bb3a99/caikit-0.26.19-py3-none-any.whl.metadata\n",
      "  Downloading caikit-0.26.19-py3-none-any.whl.metadata (10 kB)\n",
      "Collecting caikit-tgis-backend<0.2.0,>=0.1.27 (from caikit-nlp==0.4.9.dev2+gc12cb82)\n",
      "  Obtaining dependency information for caikit-tgis-backend<0.2.0,>=0.1.27 from https://files.pythonhosted.org/packages/a9/6e/c6b6fb5cf119724a8ad82e2c85f3219f5d91782f26f48e27d93ae786e436/caikit_tgis_backend-0.1.31-py3-none-any.whl.metadata\n",
      "  Downloading caikit_tgis_backend-0.1.31-py3-none-any.whl.metadata (1.2 kB)\n",
      "Collecting accelerate>=0.22.0 (from caikit-nlp==0.4.9.dev2+gc12cb82)\n",
      "  Obtaining dependency information for accelerate>=0.22.0 from https://files.pythonhosted.org/packages/53/fe/0251ccd9e0015c705e772da0fb2c96cdafd87b1d7dd45dc13dca7ced0eb7/accelerate-0.29.3-py3-none-any.whl.metadata\n",
      "  Downloading accelerate-0.29.3-py3-none-any.whl.metadata (18 kB)\n",
      "Requirement already satisfied: datasets>=2.4.0 in /opt/app-root/lib64/python3.11/site-packages (from caikit-nlp==0.4.9.dev2+gc12cb82) (2.19.0)\n",
      "Requirement already satisfied: huggingface-hub in /opt/app-root/lib64/python3.11/site-packages (from caikit-nlp==0.4.9.dev2+gc12cb82) (0.22.2)\n",
      "Requirement already satisfied: numpy>=1.22.4 in /opt/app-root/lib64/python3.11/site-packages (from caikit-nlp==0.4.9.dev2+gc12cb82) (1.24.4)\n",
      "Requirement already satisfied: pandas>=1.5.0 in /opt/app-root/lib64/python3.11/site-packages (from caikit-nlp==0.4.9.dev2+gc12cb82) (2.0.3)\n",
      "Requirement already satisfied: scikit-learn>=1.1 in /opt/app-root/lib64/python3.11/site-packages (from caikit-nlp==0.4.9.dev2+gc12cb82) (1.3.1)\n",
      "Requirement already satisfied: scipy>=1.8.1 in /opt/app-root/lib64/python3.11/site-packages (from caikit-nlp==0.4.9.dev2+gc12cb82) (1.11.2)\n",
      "Collecting sentence-transformers<2.4.0,>=2.3.1 (from caikit-nlp==0.4.9.dev2+gc12cb82)\n",
      "  Obtaining dependency information for sentence-transformers<2.4.0,>=2.3.1 from https://files.pythonhosted.org/packages/06/97/57afa3d05801b6b9305f96a7ce5995e12c1d2ba25ce66747de107816b0b5/sentence_transformers-2.3.1-py3-none-any.whl.metadata\n",
      "  Downloading sentence_transformers-2.3.1-py3-none-any.whl.metadata (11 kB)\n",
      "Requirement already satisfied: tokenizers>=0.13.3 in /opt/app-root/lib64/python3.11/site-packages (from caikit-nlp==0.4.9.dev2+gc12cb82) (0.13.3)\n",
      "Requirement already satisfied: torch>=2.0.1 in /opt/app-root/lib64/python3.11/site-packages (from caikit-nlp==0.4.9.dev2+gc12cb82) (2.0.1+cu118)\n",
      "Requirement already satisfied: tqdm>=4.65.0 in /opt/app-root/lib64/python3.11/site-packages (from caikit-nlp==0.4.9.dev2+gc12cb82) (4.66.1)\n",
      "Requirement already satisfied: transformers>=4.32.0 in /opt/app-root/lib64/python3.11/site-packages (from caikit-nlp==0.4.9.dev2+gc12cb82) (4.33.2)\n",
      "Collecting peft==0.6.0 (from caikit-nlp==0.4.9.dev2+gc12cb82)\n",
      "  Obtaining dependency information for peft==0.6.0 from https://files.pythonhosted.org/packages/d1/f5/0380adf697b726e91823bcdd5760a290d7bfac3fbb0f67d30be8ea2df858/peft-0.6.0-py3-none-any.whl.metadata\n",
      "  Downloading peft-0.6.0-py3-none-any.whl.metadata (23 kB)\n",
      "Requirement already satisfied: packaging>=20.0 in /opt/app-root/lib64/python3.11/site-packages (from peft==0.6.0->caikit-nlp==0.4.9.dev2+gc12cb82) (23.1)\n",
      "Requirement already satisfied: psutil in /opt/app-root/lib64/python3.11/site-packages (from peft==0.6.0->caikit-nlp==0.4.9.dev2+gc12cb82) (5.9.5)\n",
      "Requirement already satisfied: pyyaml in /opt/app-root/lib64/python3.11/site-packages (from peft==0.6.0->caikit-nlp==0.4.9.dev2+gc12cb82) (6.0.1)\n",
      "Requirement already satisfied: safetensors in /opt/app-root/lib64/python3.11/site-packages (from peft==0.6.0->caikit-nlp==0.4.9.dev2+gc12cb82) (0.3.3)\n",
      "Requirement already satisfied: grpcio<2.0,>=1.35.0 in /opt/app-root/lib64/python3.11/site-packages (from caikit-tgis-backend<0.2.0,>=0.1.27->caikit-nlp==0.4.9.dev2+gc12cb82) (1.51.3)\n",
      "Requirement already satisfied: requests<3,>=2.28.2 in /opt/app-root/lib64/python3.11/site-packages (from caikit-tgis-backend<0.2.0,>=0.1.27->caikit-nlp==0.4.9.dev2+gc12cb82) (2.31.0)\n",
      "Requirement already satisfied: alchemy-config<2.0.0,>=1.1.1 in /opt/app-root/lib64/python3.11/site-packages (from caikit[runtime-grpc,runtime-http]<0.27.0,>=0.26.17->caikit-nlp==0.4.9.dev2+gc12cb82) (1.1.3)\n",
      "Requirement already satisfied: alchemy-logging<2.0.0,>=1.3.2 in /opt/app-root/lib64/python3.11/site-packages (from caikit[runtime-grpc,runtime-http]<0.27.0,>=0.26.17->caikit-nlp==0.4.9.dev2+gc12cb82) (1.3.2)\n",
      "Requirement already satisfied: anytree<3.0,>=2.7.0 in /opt/app-root/lib64/python3.11/site-packages (from caikit[runtime-grpc,runtime-http]<0.27.0,>=0.26.17->caikit-nlp==0.4.9.dev2+gc12cb82) (2.12.1)\n",
      "Requirement already satisfied: docstring-parser<0.17.0,>=0.14.1 in /opt/app-root/lib64/python3.11/site-packages (from caikit[runtime-grpc,runtime-http]<0.27.0,>=0.26.17->caikit-nlp==0.4.9.dev2+gc12cb82) (0.15)\n",
      "Requirement already satisfied: ijson<3.3.0,>=3.1.4 in /opt/app-root/lib64/python3.11/site-packages (from caikit[runtime-grpc,runtime-http]<0.27.0,>=0.26.17->caikit-nlp==0.4.9.dev2+gc12cb82) (3.2.3)\n",
      "Requirement already satisfied: importlib-metadata<8.0.0,>=6.8.0 in /opt/app-root/lib64/python3.11/site-packages (from caikit[runtime-grpc,runtime-http]<0.27.0,>=0.26.17->caikit-nlp==0.4.9.dev2+gc12cb82) (6.8.0)\n",
      "Requirement already satisfied: munch<5.0,>=2.5.0 in /opt/app-root/lib64/python3.11/site-packages (from caikit[runtime-grpc,runtime-http]<0.27.0,>=0.26.17->caikit-nlp==0.4.9.dev2+gc12cb82) (4.0.0)\n",
      "Requirement already satisfied: protobuf<6,>=3.19.0 in /opt/app-root/lib64/python3.11/site-packages (from caikit[runtime-grpc,runtime-http]<0.27.0,>=0.26.17->caikit-nlp==0.4.9.dev2+gc12cb82) (3.20.3)\n",
      "Collecting py-to-proto!=0.2.1,<0.6.0,>=0.5.0 (from caikit[runtime-grpc,runtime-http]<0.27.0,>=0.26.17->caikit-nlp==0.4.9.dev2+gc12cb82)\n",
      "  Obtaining dependency information for py-to-proto!=0.2.1,<0.6.0,>=0.5.0 from https://files.pythonhosted.org/packages/7e/df/1ec98e3a764efe4005bd99da372de179d130c927467ae25cd8b86f9b8aaa/py_to_proto-0.5.2-py311-none-any.whl.metadata\n",
      "  Downloading py_to_proto-0.5.2-py311-none-any.whl.metadata (6.8 kB)\n",
      "Requirement already satisfied: semver<4.0,>=2.13.0 in /opt/app-root/lib64/python3.11/site-packages (from caikit[runtime-grpc,runtime-http]<0.27.0,>=0.26.17->caikit-nlp==0.4.9.dev2+gc12cb82) (3.0.2)\n",
      "Requirement already satisfied: six<2.0.0,>=1.16.0 in /opt/app-root/lib64/python3.11/site-packages (from caikit[runtime-grpc,runtime-http]<0.27.0,>=0.26.17->caikit-nlp==0.4.9.dev2+gc12cb82) (1.16.0)\n",
      "Requirement already satisfied: werkzeug<4.0.0,>=2.3.7 in /opt/app-root/lib64/python3.11/site-packages (from caikit[runtime-grpc,runtime-http]<0.27.0,>=0.26.17->caikit-nlp==0.4.9.dev2+gc12cb82) (2.3.7)\n",
      "Collecting grpcio-health-checking<2.0,>=1.35.0 (from caikit[runtime-grpc,runtime-http]<0.27.0,>=0.26.17->caikit-nlp==0.4.9.dev2+gc12cb82)\n",
      "  Obtaining dependency information for grpcio-health-checking<2.0,>=1.35.0 from https://files.pythonhosted.org/packages/b9/66/cab5e20b0608d113cc5f44c1da8f32df424f0bf319346ec5ace729125c79/grpcio_health_checking-1.62.2-py3-none-any.whl.metadata\n",
      "  Downloading grpcio_health_checking-1.62.2-py3-none-any.whl.metadata (1.3 kB)\n",
      "Collecting grpcio-reflection<2.0,>=1.35.0 (from caikit[runtime-grpc,runtime-http]<0.27.0,>=0.26.17->caikit-nlp==0.4.9.dev2+gc12cb82)\n",
      "  Obtaining dependency information for grpcio-reflection<2.0,>=1.35.0 from https://files.pythonhosted.org/packages/c2/d1/702d6f159c9a8104c21b16b32d084657ace6f5d206104f3e64e6a69237d4/grpcio_reflection-1.62.2-py3-none-any.whl.metadata\n",
      "  Downloading grpcio_reflection-1.62.2-py3-none-any.whl.metadata (1.3 kB)\n",
      "Requirement already satisfied: prometheus-client<1.0,>=0.12.0 in /opt/app-root/lib64/python3.11/site-packages (from caikit[runtime-grpc,runtime-http]<0.27.0,>=0.26.17->caikit-nlp==0.4.9.dev2+gc12cb82) (0.17.1)\n",
      "Collecting py-grpc-prometheus<0.9,>=0.7.0 (from caikit[runtime-grpc,runtime-http]<0.27.0,>=0.26.17->caikit-nlp==0.4.9.dev2+gc12cb82)\n",
      "  Obtaining dependency information for py-grpc-prometheus<0.9,>=0.7.0 from https://files.pythonhosted.org/packages/7e/e6/73d00f9553db1447c95a5b589b73e8efde891ef4c314536dcca4c4c747eb/py_grpc_prometheus-0.8.0-py3-none-any.whl.metadata\n",
      "  Downloading py_grpc_prometheus-0.8.0-py3-none-any.whl.metadata (5.4 kB)\n",
      "Collecting fastapi[all]<1,>=0.100 (from caikit[runtime-grpc,runtime-http]<0.27.0,>=0.26.17->caikit-nlp==0.4.9.dev2+gc12cb82)\n",
      "  Obtaining dependency information for fastapi[all]<1,>=0.100 from https://files.pythonhosted.org/packages/ad/0f/feb7fd8957714498fc4a6be7f13408869619f868f418698a2d934afa82a7/fastapi-0.110.2-py3-none-any.whl.metadata\n",
      "  Downloading fastapi-0.110.2-py3-none-any.whl.metadata (24 kB)\n",
      "Collecting sse-starlette<3,>=1.6.1 (from caikit[runtime-grpc,runtime-http]<0.27.0,>=0.26.17->caikit-nlp==0.4.9.dev2+gc12cb82)\n",
      "  Obtaining dependency information for sse-starlette<3,>=1.6.1 from https://files.pythonhosted.org/packages/15/51/faf3a6478876bfa30d28a9bfa60cf191fd79bfac79f7595a6d342e66c44a/sse_starlette-2.1.0-py3-none-any.whl.metadata\n",
      "  Downloading sse_starlette-2.1.0-py3-none-any.whl.metadata (5.8 kB)\n",
      "Requirement already satisfied: filelock in /opt/app-root/lib64/python3.11/site-packages (from datasets>=2.4.0->caikit-nlp==0.4.9.dev2+gc12cb82) (3.12.4)\n",
      "Requirement already satisfied: pyarrow>=12.0.0 in /opt/app-root/lib64/python3.11/site-packages (from datasets>=2.4.0->caikit-nlp==0.4.9.dev2+gc12cb82) (16.0.0)\n",
      "Requirement already satisfied: pyarrow-hotfix in /opt/app-root/lib64/python3.11/site-packages (from datasets>=2.4.0->caikit-nlp==0.4.9.dev2+gc12cb82) (0.6)\n",
      "Requirement already satisfied: dill<0.3.9,>=0.3.0 in /opt/app-root/lib64/python3.11/site-packages (from datasets>=2.4.0->caikit-nlp==0.4.9.dev2+gc12cb82) (0.3.8)\n",
      "Requirement already satisfied: xxhash in /opt/app-root/lib64/python3.11/site-packages (from datasets>=2.4.0->caikit-nlp==0.4.9.dev2+gc12cb82) (3.4.1)\n",
      "Requirement already satisfied: multiprocess in /opt/app-root/lib64/python3.11/site-packages (from datasets>=2.4.0->caikit-nlp==0.4.9.dev2+gc12cb82) (0.70.16)\n",
      "Requirement already satisfied: fsspec[http]<=2024.3.1,>=2023.1.0 in /opt/app-root/lib64/python3.11/site-packages (from datasets>=2.4.0->caikit-nlp==0.4.9.dev2+gc12cb82) (2023.9.2)\n",
      "Requirement already satisfied: aiohttp in /opt/app-root/lib64/python3.11/site-packages (from datasets>=2.4.0->caikit-nlp==0.4.9.dev2+gc12cb82) (3.8.5)\n",
      "Requirement already satisfied: typing-extensions>=3.7.4.3 in /opt/app-root/lib64/python3.11/site-packages (from huggingface-hub->caikit-nlp==0.4.9.dev2+gc12cb82) (4.8.0)\n",
      "Requirement already satisfied: python-dateutil>=2.8.2 in /opt/app-root/lib64/python3.11/site-packages (from pandas>=1.5.0->caikit-nlp==0.4.9.dev2+gc12cb82) (2.8.2)\n",
      "Requirement already satisfied: pytz>=2020.1 in /opt/app-root/lib64/python3.11/site-packages (from pandas>=1.5.0->caikit-nlp==0.4.9.dev2+gc12cb82) (2023.3.post1)\n",
      "Requirement already satisfied: tzdata>=2022.1 in /opt/app-root/lib64/python3.11/site-packages (from pandas>=1.5.0->caikit-nlp==0.4.9.dev2+gc12cb82) (2023.3)\n",
      "Requirement already satisfied: joblib>=1.1.1 in /opt/app-root/lib64/python3.11/site-packages (from scikit-learn>=1.1->caikit-nlp==0.4.9.dev2+gc12cb82) (1.3.2)\n",
      "Requirement already satisfied: threadpoolctl>=2.0.0 in /opt/app-root/lib64/python3.11/site-packages (from scikit-learn>=1.1->caikit-nlp==0.4.9.dev2+gc12cb82) (3.2.0)\n",
      "Requirement already satisfied: nltk in /opt/app-root/lib64/python3.11/site-packages (from sentence-transformers<2.4.0,>=2.3.1->caikit-nlp==0.4.9.dev2+gc12cb82) (3.8.1)\n",
      "Requirement already satisfied: sentencepiece in /opt/app-root/lib64/python3.11/site-packages (from sentence-transformers<2.4.0,>=2.3.1->caikit-nlp==0.4.9.dev2+gc12cb82) (0.1.99)\n",
      "Requirement already satisfied: Pillow in /opt/app-root/lib64/python3.11/site-packages (from sentence-transformers<2.4.0,>=2.3.1->caikit-nlp==0.4.9.dev2+gc12cb82) (10.0.1)\n",
      "Requirement already satisfied: sympy in /opt/app-root/lib64/python3.11/site-packages (from torch>=2.0.1->caikit-nlp==0.4.9.dev2+gc12cb82) (1.12)\n",
      "Requirement already satisfied: networkx in /opt/app-root/lib64/python3.11/site-packages (from torch>=2.0.1->caikit-nlp==0.4.9.dev2+gc12cb82) (3.1)\n",
      "Requirement already satisfied: jinja2 in /opt/app-root/lib64/python3.11/site-packages (from torch>=2.0.1->caikit-nlp==0.4.9.dev2+gc12cb82) (3.1.2)\n",
      "Requirement already satisfied: triton==2.0.0 in /opt/app-root/lib64/python3.11/site-packages (from torch>=2.0.1->caikit-nlp==0.4.9.dev2+gc12cb82) (2.0.0)\n",
      "Requirement already satisfied: cmake in /opt/app-root/lib64/python3.11/site-packages (from triton==2.0.0->torch>=2.0.1->caikit-nlp==0.4.9.dev2+gc12cb82) (3.27.5)\n",
      "Requirement already satisfied: lit in /opt/app-root/lib64/python3.11/site-packages (from triton==2.0.0->torch>=2.0.1->caikit-nlp==0.4.9.dev2+gc12cb82) (17.0.1)\n",
      "Requirement already satisfied: regex!=2019.12.17 in /opt/app-root/lib64/python3.11/site-packages (from transformers>=4.32.0->caikit-nlp==0.4.9.dev2+gc12cb82) (2023.8.8)\n",
      "Requirement already satisfied: pydantic!=1.8,!=1.8.1,!=2.0.0,!=2.0.1,!=2.1.0,<3.0.0,>=1.7.4 in /opt/app-root/lib64/python3.11/site-packages (from fastapi[all]<1,>=0.100->caikit[runtime-grpc,runtime-http]<0.27.0,>=0.26.17->caikit-nlp==0.4.9.dev2+gc12cb82) (1.10.12)\n",
      "Collecting starlette<0.38.0,>=0.37.2 (from fastapi[all]<1,>=0.100->caikit[runtime-grpc,runtime-http]<0.27.0,>=0.26.17->caikit-nlp==0.4.9.dev2+gc12cb82)\n",
      "  Obtaining dependency information for starlette<0.38.0,>=0.37.2 from https://files.pythonhosted.org/packages/fd/18/31fa32ed6c68ba66220204ef0be798c349d0a20c1901f9d4a794e08c76d8/starlette-0.37.2-py3-none-any.whl.metadata\n",
      "  Downloading starlette-0.37.2-py3-none-any.whl.metadata (5.9 kB)\n",
      "Collecting email-validator>=2.0.0 (from fastapi[all]<1,>=0.100->caikit[runtime-grpc,runtime-http]<0.27.0,>=0.26.17->caikit-nlp==0.4.9.dev2+gc12cb82)\n",
      "  Obtaining dependency information for email-validator>=2.0.0 from https://files.pythonhosted.org/packages/e4/60/b02cb0f5ee0be88bd4fbfdd9cc91e43ec2dfcc47fe064e7c70587ff58a94/email_validator-2.1.1-py3-none-any.whl.metadata\n",
      "  Downloading email_validator-2.1.1-py3-none-any.whl.metadata (26 kB)\n",
      "Requirement already satisfied: httpx>=0.23.0 in /opt/app-root/lib64/python3.11/site-packages (from fastapi[all]<1,>=0.100->caikit[runtime-grpc,runtime-http]<0.27.0,>=0.26.17->caikit-nlp==0.4.9.dev2+gc12cb82) (0.25.0)\n",
      "Collecting itsdangerous>=1.1.0 (from fastapi[all]<1,>=0.100->caikit[runtime-grpc,runtime-http]<0.27.0,>=0.26.17->caikit-nlp==0.4.9.dev2+gc12cb82)\n",
      "  Obtaining dependency information for itsdangerous>=1.1.0 from https://files.pythonhosted.org/packages/04/96/92447566d16df59b2a776c0fb82dbc4d9e07cd95062562af01e408583fc4/itsdangerous-2.2.0-py3-none-any.whl.metadata\n",
      "  Downloading itsdangerous-2.2.0-py3-none-any.whl.metadata (1.9 kB)\n",
      "Collecting orjson>=3.2.1 (from fastapi[all]<1,>=0.100->caikit[runtime-grpc,runtime-http]<0.27.0,>=0.26.17->caikit-nlp==0.4.9.dev2+gc12cb82)\n",
      "  Obtaining dependency information for orjson>=3.2.1 from https://files.pythonhosted.org/packages/40/c8/bc8e7d389efcbb1e55cc7ddab05233ec66d4e764ada2dda19891cdb5b4de/orjson-3.10.1-cp311-cp311-manylinux_2_17_x86_64.manylinux2014_x86_64.whl.metadata\n",
      "  Downloading orjson-3.10.1-cp311-cp311-manylinux_2_17_x86_64.manylinux2014_x86_64.whl.metadata (49 kB)\n",
      "\u001b[2K     \u001b[90m━━━━━━━━━━━━━━━━━━━━━━━━━━━━━━━━━━━━━━━━\u001b[0m \u001b[32m49.7/49.7 kB\u001b[0m \u001b[31m39.5 MB/s\u001b[0m eta \u001b[36m0:00:00\u001b[0m\n",
      "\u001b[?25hCollecting pydantic-extra-types>=2.0.0 (from fastapi[all]<1,>=0.100->caikit[runtime-grpc,runtime-http]<0.27.0,>=0.26.17->caikit-nlp==0.4.9.dev2+gc12cb82)\n",
      "  Obtaining dependency information for pydantic-extra-types>=2.0.0 from https://files.pythonhosted.org/packages/5f/d6/82dd4ab178828504fbd35faf2496cdeb7ff7621916e1cc943a62cab8b3ab/pydantic_extra_types-2.7.0-py3-none-any.whl.metadata\n",
      "  Downloading pydantic_extra_types-2.7.0-py3-none-any.whl.metadata (2.7 kB)\n",
      "Collecting pydantic-settings>=2.0.0 (from fastapi[all]<1,>=0.100->caikit[runtime-grpc,runtime-http]<0.27.0,>=0.26.17->caikit-nlp==0.4.9.dev2+gc12cb82)\n",
      "  Obtaining dependency information for pydantic-settings>=2.0.0 from https://files.pythonhosted.org/packages/99/ee/24ec87e3a91426497c5a2b9880662d19cfd640342d477334ebc60fc2c276/pydantic_settings-2.2.1-py3-none-any.whl.metadata\n",
      "  Downloading pydantic_settings-2.2.1-py3-none-any.whl.metadata (3.1 kB)\n",
      "Collecting python-multipart>=0.0.7 (from fastapi[all]<1,>=0.100->caikit[runtime-grpc,runtime-http]<0.27.0,>=0.26.17->caikit-nlp==0.4.9.dev2+gc12cb82)\n",
      "  Obtaining dependency information for python-multipart>=0.0.7 from https://files.pythonhosted.org/packages/3d/47/444768600d9e0ebc82f8e347775d24aef8f6348cf00e9fa0e81910814e6d/python_multipart-0.0.9-py3-none-any.whl.metadata\n",
      "  Downloading python_multipart-0.0.9-py3-none-any.whl.metadata (2.5 kB)\n",
      "Requirement already satisfied: ujson!=4.0.2,!=4.1.0,!=4.2.0,!=4.3.0,!=5.0.0,!=5.1.0,>=4.0.1 in /opt/app-root/lib64/python3.11/site-packages (from fastapi[all]<1,>=0.100->caikit[runtime-grpc,runtime-http]<0.27.0,>=0.26.17->caikit-nlp==0.4.9.dev2+gc12cb82) (5.8.0)\n",
      "Requirement already satisfied: uvicorn[standard]>=0.12.0 in /opt/app-root/lib64/python3.11/site-packages (from fastapi[all]<1,>=0.100->caikit[runtime-grpc,runtime-http]<0.27.0,>=0.26.17->caikit-nlp==0.4.9.dev2+gc12cb82) (0.23.2)\n",
      "Requirement already satisfied: attrs>=17.3.0 in /opt/app-root/lib64/python3.11/site-packages (from aiohttp->datasets>=2.4.0->caikit-nlp==0.4.9.dev2+gc12cb82) (23.1.0)\n",
      "Requirement already satisfied: charset-normalizer<4.0,>=2.0 in /opt/app-root/lib64/python3.11/site-packages (from aiohttp->datasets>=2.4.0->caikit-nlp==0.4.9.dev2+gc12cb82) (3.2.0)\n",
      "Requirement already satisfied: multidict<7.0,>=4.5 in /opt/app-root/lib64/python3.11/site-packages (from aiohttp->datasets>=2.4.0->caikit-nlp==0.4.9.dev2+gc12cb82) (6.0.4)\n",
      "Requirement already satisfied: async-timeout<5.0,>=4.0.0a3 in /opt/app-root/lib64/python3.11/site-packages (from aiohttp->datasets>=2.4.0->caikit-nlp==0.4.9.dev2+gc12cb82) (4.0.3)\n",
      "Requirement already satisfied: yarl<2.0,>=1.0 in /opt/app-root/lib64/python3.11/site-packages (from aiohttp->datasets>=2.4.0->caikit-nlp==0.4.9.dev2+gc12cb82) (1.9.2)\n",
      "Requirement already satisfied: frozenlist>=1.1.1 in /opt/app-root/lib64/python3.11/site-packages (from aiohttp->datasets>=2.4.0->caikit-nlp==0.4.9.dev2+gc12cb82) (1.4.0)\n",
      "Requirement already satisfied: aiosignal>=1.1.2 in /opt/app-root/lib64/python3.11/site-packages (from aiohttp->datasets>=2.4.0->caikit-nlp==0.4.9.dev2+gc12cb82) (1.3.1)\n",
      "Collecting protobuf<6,>=3.19.0 (from caikit[runtime-grpc,runtime-http]<0.27.0,>=0.26.17->caikit-nlp==0.4.9.dev2+gc12cb82)\n",
      "  Obtaining dependency information for protobuf<6,>=3.19.0 from https://files.pythonhosted.org/packages/2c/2a/d2741cad35fa5f06d9c59dda3274e5727ca11075dfd7de3f69c100efdcad/protobuf-5.26.1-cp37-abi3-manylinux2014_x86_64.whl.metadata\n",
      "  Downloading protobuf-5.26.1-cp37-abi3-manylinux2014_x86_64.whl.metadata (592 bytes)\n",
      "Collecting grpcio<2.0,>=1.35.0 (from caikit-tgis-backend<0.2.0,>=0.1.27->caikit-nlp==0.4.9.dev2+gc12cb82)\n",
      "  Obtaining dependency information for grpcio<2.0,>=1.35.0 from https://files.pythonhosted.org/packages/26/d6/fb04ae7cde69fbf0c2a7fbfa2fb93b338094ec57fe34555e9cb9befa0459/grpcio-1.62.2-cp311-cp311-manylinux_2_17_x86_64.manylinux2014_x86_64.whl.metadata\n",
      "  Downloading grpcio-1.62.2-cp311-cp311-manylinux_2_17_x86_64.manylinux2014_x86_64.whl.metadata (4.0 kB)\n",
      "Requirement already satisfied: zipp>=0.5 in /opt/app-root/lib64/python3.11/site-packages (from importlib-metadata<8.0.0,>=6.8.0->caikit[runtime-grpc,runtime-http]<0.27.0,>=0.26.17->caikit-nlp==0.4.9.dev2+gc12cb82) (3.17.0)\n",
      "Requirement already satisfied: MarkupSafe>=2.0 in /opt/app-root/lib64/python3.11/site-packages (from jinja2->torch>=2.0.1->caikit-nlp==0.4.9.dev2+gc12cb82) (2.1.3)\n",
      "Requirement already satisfied: setuptools>=39.0.1 in /opt/app-root/lib64/python3.11/site-packages (from py-grpc-prometheus<0.9,>=0.7.0->caikit[runtime-grpc,runtime-http]<0.27.0,>=0.26.17->caikit-nlp==0.4.9.dev2+gc12cb82) (68.1.2)\n",
      "Collecting protobuf<6,>=3.19.0 (from caikit[runtime-grpc,runtime-http]<0.27.0,>=0.26.17->caikit-nlp==0.4.9.dev2+gc12cb82)\n",
      "  Obtaining dependency information for protobuf<6,>=3.19.0 from https://files.pythonhosted.org/packages/15/db/7f731524fe0e56c6b2eb57d05b55d3badd80ef7d1f1ed59db191b2fdd8ab/protobuf-4.25.3-cp37-abi3-manylinux2014_x86_64.whl.metadata\n",
      "  Downloading protobuf-4.25.3-cp37-abi3-manylinux2014_x86_64.whl.metadata (541 bytes)\n",
      "Requirement already satisfied: idna<4,>=2.5 in /opt/app-root/lib64/python3.11/site-packages (from requests<3,>=2.28.2->caikit-tgis-backend<0.2.0,>=0.1.27->caikit-nlp==0.4.9.dev2+gc12cb82) (3.4)\n",
      "Requirement already satisfied: urllib3<3,>=1.21.1 in /opt/app-root/lib64/python3.11/site-packages (from requests<3,>=2.28.2->caikit-tgis-backend<0.2.0,>=0.1.27->caikit-nlp==0.4.9.dev2+gc12cb82) (1.26.16)\n",
      "Requirement already satisfied: certifi>=2017.4.17 in /opt/app-root/lib64/python3.11/site-packages (from requests<3,>=2.28.2->caikit-tgis-backend<0.2.0,>=0.1.27->caikit-nlp==0.4.9.dev2+gc12cb82) (2023.7.22)\n",
      "Requirement already satisfied: anyio in /opt/app-root/lib64/python3.11/site-packages (from sse-starlette<3,>=1.6.1->caikit[runtime-grpc,runtime-http]<0.27.0,>=0.26.17->caikit-nlp==0.4.9.dev2+gc12cb82) (3.7.1)\n",
      "Requirement already satisfied: click in /opt/app-root/lib64/python3.11/site-packages (from nltk->sentence-transformers<2.4.0,>=2.3.1->caikit-nlp==0.4.9.dev2+gc12cb82) (8.1.7)\n",
      "Requirement already satisfied: mpmath>=0.19 in /opt/app-root/lib64/python3.11/site-packages (from sympy->torch>=2.0.1->caikit-nlp==0.4.9.dev2+gc12cb82) (1.3.0)\n",
      "Requirement already satisfied: dnspython>=2.0.0 in /opt/app-root/lib64/python3.11/site-packages (from email-validator>=2.0.0->fastapi[all]<1,>=0.100->caikit[runtime-grpc,runtime-http]<0.27.0,>=0.26.17->caikit-nlp==0.4.9.dev2+gc12cb82) (2.4.2)\n",
      "Requirement already satisfied: httpcore<0.19.0,>=0.18.0 in /opt/app-root/lib64/python3.11/site-packages (from httpx>=0.23.0->fastapi[all]<1,>=0.100->caikit[runtime-grpc,runtime-http]<0.27.0,>=0.26.17->caikit-nlp==0.4.9.dev2+gc12cb82) (0.18.0)\n",
      "Requirement already satisfied: sniffio in /opt/app-root/lib64/python3.11/site-packages (from httpx>=0.23.0->fastapi[all]<1,>=0.100->caikit[runtime-grpc,runtime-http]<0.27.0,>=0.26.17->caikit-nlp==0.4.9.dev2+gc12cb82) (1.3.0)\n",
      "Collecting pydantic!=1.8,!=1.8.1,!=2.0.0,!=2.0.1,!=2.1.0,<3.0.0,>=1.7.4 (from fastapi[all]<1,>=0.100->caikit[runtime-grpc,runtime-http]<0.27.0,>=0.26.17->caikit-nlp==0.4.9.dev2+gc12cb82)\n",
      "  Obtaining dependency information for pydantic!=1.8,!=1.8.1,!=2.0.0,!=2.0.1,!=2.1.0,<3.0.0,>=1.7.4 from https://files.pythonhosted.org/packages/16/ca/330c4f3bd983bb24ac12c7fd1e08c26c8aed70bc64498cf38c770321067f/pydantic-2.7.0-py3-none-any.whl.metadata\n",
      "  Downloading pydantic-2.7.0-py3-none-any.whl.metadata (103 kB)\n",
      "\u001b[2K     \u001b[90m━━━━━━━━━━━━━━━━━━━━━━━━━━━━━━━━━━━━━━\u001b[0m \u001b[32m103.4/103.4 kB\u001b[0m \u001b[31m33.6 MB/s\u001b[0m eta \u001b[36m0:00:00\u001b[0m\n",
      "\u001b[?25hCollecting annotated-types>=0.4.0 (from pydantic!=1.8,!=1.8.1,!=2.0.0,!=2.0.1,!=2.1.0,<3.0.0,>=1.7.4->fastapi[all]<1,>=0.100->caikit[runtime-grpc,runtime-http]<0.27.0,>=0.26.17->caikit-nlp==0.4.9.dev2+gc12cb82)\n",
      "  Obtaining dependency information for annotated-types>=0.4.0 from https://files.pythonhosted.org/packages/28/78/d31230046e58c207284c6b2c4e8d96e6d3cb4e52354721b944d3e1ee4aa5/annotated_types-0.6.0-py3-none-any.whl.metadata\n",
      "  Downloading annotated_types-0.6.0-py3-none-any.whl.metadata (12 kB)\n",
      "Collecting pydantic-core==2.18.1 (from pydantic!=1.8,!=1.8.1,!=2.0.0,!=2.0.1,!=2.1.0,<3.0.0,>=1.7.4->fastapi[all]<1,>=0.100->caikit[runtime-grpc,runtime-http]<0.27.0,>=0.26.17->caikit-nlp==0.4.9.dev2+gc12cb82)\n",
      "  Obtaining dependency information for pydantic-core==2.18.1 from https://files.pythonhosted.org/packages/b0/a5/5519e8416e85c58f0c06218310220acdd6c210d154e75da99ec4f5f0aca3/pydantic_core-2.18.1-cp311-cp311-manylinux_2_17_x86_64.manylinux2014_x86_64.whl.metadata\n",
      "  Downloading pydantic_core-2.18.1-cp311-cp311-manylinux_2_17_x86_64.manylinux2014_x86_64.whl.metadata (6.5 kB)\n",
      "Requirement already satisfied: python-dotenv>=0.21.0 in /opt/app-root/lib64/python3.11/site-packages (from pydantic-settings>=2.0.0->fastapi[all]<1,>=0.100->caikit[runtime-grpc,runtime-http]<0.27.0,>=0.26.17->caikit-nlp==0.4.9.dev2+gc12cb82) (1.0.0)\n",
      "Requirement already satisfied: h11>=0.8 in /opt/app-root/lib64/python3.11/site-packages (from uvicorn[standard]>=0.12.0->fastapi[all]<1,>=0.100->caikit[runtime-grpc,runtime-http]<0.27.0,>=0.26.17->caikit-nlp==0.4.9.dev2+gc12cb82) (0.14.0)\n",
      "Requirement already satisfied: httptools>=0.5.0 in /opt/app-root/lib64/python3.11/site-packages (from uvicorn[standard]>=0.12.0->fastapi[all]<1,>=0.100->caikit[runtime-grpc,runtime-http]<0.27.0,>=0.26.17->caikit-nlp==0.4.9.dev2+gc12cb82) (0.6.0)\n",
      "Requirement already satisfied: uvloop!=0.15.0,!=0.15.1,>=0.14.0 in /opt/app-root/lib64/python3.11/site-packages (from uvicorn[standard]>=0.12.0->fastapi[all]<1,>=0.100->caikit[runtime-grpc,runtime-http]<0.27.0,>=0.26.17->caikit-nlp==0.4.9.dev2+gc12cb82) (0.17.0)\n",
      "Requirement already satisfied: watchfiles>=0.13 in /opt/app-root/lib64/python3.11/site-packages (from uvicorn[standard]>=0.12.0->fastapi[all]<1,>=0.100->caikit[runtime-grpc,runtime-http]<0.27.0,>=0.26.17->caikit-nlp==0.4.9.dev2+gc12cb82) (0.20.0)\n",
      "Requirement already satisfied: websockets>=10.4 in /opt/app-root/lib64/python3.11/site-packages (from uvicorn[standard]>=0.12.0->fastapi[all]<1,>=0.100->caikit[runtime-grpc,runtime-http]<0.27.0,>=0.26.17->caikit-nlp==0.4.9.dev2+gc12cb82) (11.0.3)\n",
      "Downloading peft-0.6.0-py3-none-any.whl (134 kB)\n",
      "\u001b[2K   \u001b[90m━━━━━━━━━━━━━━━━━━━━━━━━━━━━━━━━━━━━━━━\u001b[0m \u001b[32m134.9/134.9 kB\u001b[0m \u001b[31m296.7 MB/s\u001b[0m eta \u001b[36m0:00:00\u001b[0m\n",
      "\u001b[?25hDownloading accelerate-0.29.3-py3-none-any.whl (297 kB)\n",
      "\u001b[2K   \u001b[90m━━━━━━━━━━━━━━━━━━━━━━━━━━━━━━━━━━━━━━━━\u001b[0m \u001b[32m297.6/297.6 kB\u001b[0m \u001b[31m31.5 MB/s\u001b[0m eta \u001b[36m0:00:00\u001b[0m\n",
      "\u001b[?25hDownloading caikit_tgis_backend-0.1.31-py3-none-any.whl (29 kB)\n",
      "Downloading sentence_transformers-2.3.1-py3-none-any.whl (132 kB)\n",
      "\u001b[2K   \u001b[90m━━━━━━━━━━━━━━━━━━━━━━━━━━━━━━━━━━━━━━━\u001b[0m \u001b[32m132.8/132.8 kB\u001b[0m \u001b[31m311.5 MB/s\u001b[0m eta \u001b[36m0:00:00\u001b[0m\n",
      "\u001b[?25hDownloading caikit-0.26.19-py3-none-any.whl (419 kB)\n",
      "\u001b[2K   \u001b[90m━━━━━━━━━━━━━━━━━━━━━━━━━━━━━━━━━━━━━━━\u001b[0m \u001b[32m419.9/419.9 kB\u001b[0m \u001b[31m216.3 MB/s\u001b[0m eta \u001b[36m0:00:00\u001b[0m\n",
      "\u001b[?25hDownloading grpcio_health_checking-1.62.2-py3-none-any.whl (18 kB)\n",
      "Downloading grpcio-1.62.2-cp311-cp311-manylinux_2_17_x86_64.manylinux2014_x86_64.whl (5.5 MB)\n",
      "\u001b[2K   \u001b[90m━━━━━━━━━━━━━━━━━━━━━━━━━━━━━━━━━━━━━━━━\u001b[0m \u001b[32m5.5/5.5 MB\u001b[0m \u001b[31m145.9 MB/s\u001b[0m eta \u001b[36m0:00:00\u001b[0ma \u001b[36m0:00:01\u001b[0m\n",
      "\u001b[?25hDownloading grpcio_reflection-1.62.2-py3-none-any.whl (22 kB)\n",
      "Downloading py_grpc_prometheus-0.8.0-py3-none-any.whl (12 kB)\n",
      "Downloading py_to_proto-0.5.2-py311-none-any.whl (32 kB)\n",
      "Downloading protobuf-4.25.3-cp37-abi3-manylinux2014_x86_64.whl (294 kB)\n",
      "\u001b[2K   \u001b[90m━━━━━━━━━━━━━━━━━━━━━━━━━━━━━━━━━━━━━━━\u001b[0m \u001b[32m294.6/294.6 kB\u001b[0m \u001b[31m339.3 MB/s\u001b[0m eta \u001b[36m0:00:00\u001b[0m\n",
      "\u001b[?25hDownloading sse_starlette-2.1.0-py3-none-any.whl (9.2 kB)\n",
      "Downloading email_validator-2.1.1-py3-none-any.whl (30 kB)\n",
      "Downloading itsdangerous-2.2.0-py3-none-any.whl (16 kB)\n",
      "Downloading orjson-3.10.1-cp311-cp311-manylinux_2_17_x86_64.manylinux2014_x86_64.whl (141 kB)\n",
      "\u001b[2K   \u001b[90m━━━━━━━━━━━━━━━━━━━━━━━━━━━━━━━━━━━━━━━\u001b[0m \u001b[32m141.1/141.1 kB\u001b[0m \u001b[31m327.9 MB/s\u001b[0m eta \u001b[36m0:00:00\u001b[0m\n",
      "\u001b[?25hDownloading pydantic_extra_types-2.7.0-py3-none-any.whl (25 kB)\n",
      "Downloading pydantic-2.7.0-py3-none-any.whl (407 kB)\n",
      "\u001b[2K   \u001b[90m━━━━━━━━━━━━━━━━━━━━━━━━━━━━━━━━━━━━━━━\u001b[0m \u001b[32m407.9/407.9 kB\u001b[0m \u001b[31m360.6 MB/s\u001b[0m eta \u001b[36m0:00:00\u001b[0m\n",
      "\u001b[?25hDownloading pydantic_core-2.18.1-cp311-cp311-manylinux_2_17_x86_64.manylinux2014_x86_64.whl (2.1 MB)\n",
      "\u001b[2K   \u001b[90m━━━━━━━━━━━━━━━━━━━━━━━━━━━━━━━━━━━━━━━━\u001b[0m \u001b[32m2.1/2.1 MB\u001b[0m \u001b[31m217.0 MB/s\u001b[0m eta \u001b[36m0:00:00\u001b[0m\n",
      "\u001b[?25hDownloading pydantic_settings-2.2.1-py3-none-any.whl (13 kB)\n",
      "Downloading python_multipart-0.0.9-py3-none-any.whl (22 kB)\n",
      "Downloading starlette-0.37.2-py3-none-any.whl (71 kB)\n",
      "\u001b[2K   \u001b[90m━━━━━━━━━━━━━━━━━━━━━━━━━━━━━━━━━━━━━━━━\u001b[0m \u001b[32m71.9/71.9 kB\u001b[0m \u001b[31m308.4 MB/s\u001b[0m eta \u001b[36m0:00:00\u001b[0m\n",
      "\u001b[?25hDownloading fastapi-0.110.2-py3-none-any.whl (91 kB)\n",
      "\u001b[2K   \u001b[90m━━━━━━━━━━━━━━━━━━━━━━━━━━━━━━━━━━━━━━━━\u001b[0m \u001b[32m91.9/91.9 kB\u001b[0m \u001b[31m297.6 MB/s\u001b[0m eta \u001b[36m0:00:00\u001b[0m\n",
      "\u001b[?25hDownloading annotated_types-0.6.0-py3-none-any.whl (12 kB)\n",
      "Building wheels for collected packages: caikit-nlp\n",
      "  Building wheel for caikit-nlp (pyproject.toml) ... \u001b[?25ldone\n",
      "\u001b[?25h  Created wheel for caikit-nlp: filename=caikit_nlp-0.4.9.dev2+gc12cb82-py3-none-any.whl size=105362 sha256=4d4576e993dd39f6dfa36cb1f02b32fd065cb63e34e25ca0572a4c6d13b97017\n",
      "  Stored in directory: /tmp/pip-ephem-wheel-cache-8h82_hfu/wheels/aa/6e/b0/3689665583fac9d015dc421de3a9d2b260688474c8130499af\n",
      "Successfully built caikit-nlp\n",
      "Installing collected packages: python-multipart, pydantic-core, protobuf, orjson, itsdangerous, grpcio, email-validator, annotated-types, starlette, pydantic, py-to-proto, py-grpc-prometheus, grpcio-reflection, grpcio-health-checking, sse-starlette, pydantic-settings, pydantic-extra-types, fastapi, caikit, caikit-tgis-backend, accelerate, sentence-transformers, peft, caikit-nlp\n",
      "  Attempting uninstall: protobuf\n",
      "    Found existing installation: protobuf 3.20.3\n",
      "    Uninstalling protobuf-3.20.3:\n",
      "      Successfully uninstalled protobuf-3.20.3\n",
      "  Attempting uninstall: grpcio\n",
      "    Found existing installation: grpcio 1.51.3\n",
      "    Uninstalling grpcio-1.51.3:\n",
      "      Successfully uninstalled grpcio-1.51.3\n",
      "  Attempting uninstall: starlette\n",
      "    Found existing installation: starlette 0.20.4\n",
      "    Uninstalling starlette-0.20.4:\n",
      "      Successfully uninstalled starlette-0.20.4\n",
      "  Attempting uninstall: pydantic\n",
      "    Found existing installation: pydantic 1.10.12\n",
      "    Uninstalling pydantic-1.10.12:\n",
      "      Successfully uninstalled pydantic-1.10.12\n",
      "  Attempting uninstall: py-to-proto\n",
      "    Found existing installation: py-to-proto 0.4.1\n",
      "    Uninstalling py-to-proto-0.4.1:\n",
      "      Successfully uninstalled py-to-proto-0.4.1\n",
      "  Attempting uninstall: fastapi\n",
      "    Found existing installation: fastapi 0.85.1\n",
      "    Uninstalling fastapi-0.85.1:\n",
      "      Successfully uninstalled fastapi-0.85.1\n",
      "  Attempting uninstall: caikit\n",
      "    Found existing installation: caikit 0.0.1\n",
      "    Uninstalling caikit-0.0.1:\n",
      "      Successfully uninstalled caikit-0.0.1\n",
      "  Attempting uninstall: sentence-transformers\n",
      "    Found existing installation: sentence-transformers 2.2.2\n",
      "    Uninstalling sentence-transformers-2.2.2:\n",
      "      Successfully uninstalled sentence-transformers-2.2.2\n",
      "\u001b[31mERROR: pip's dependency resolver does not currently take into account all the packages that are installed. This behaviour is the source of the following dependency conflicts.\n",
      "chromadb 0.3.29 requires fastapi==0.85.1, but you have fastapi 0.110.2 which is incompatible.\n",
      "chromadb 0.3.29 requires pydantic<2.0,>=1.9, but you have pydantic 2.7.0 which is incompatible.\n",
      "codeflare-sdk 0.8.0 requires pydantic<2, but you have pydantic 2.7.0 which is incompatible.\n",
      "kfp 1.8.22 requires protobuf<4,>=3.13.0, but you have protobuf 4.25.3 which is incompatible.\n",
      "kfp 1.8.22 requires pydantic<2,>=1.8.2, but you have pydantic 2.7.0 which is incompatible.\n",
      "kfp-pipeline-spec 0.1.16 requires protobuf<4,>=3.13.0, but you have protobuf 4.25.3 which is incompatible.\n",
      "mysql-connector-python 8.0.33 requires protobuf<=3.20.3,>=3.11.0, but you have protobuf 4.25.3 which is incompatible.\n",
      "ray 2.5.0 requires grpcio<=1.51.3,>=1.42.0; python_version >= \"3.10\" and sys_platform != \"darwin\", but you have grpcio 1.62.2 which is incompatible.\n",
      "text-generation 0.6.0 requires pydantic<2.0,>=1.10, but you have pydantic 2.7.0 which is incompatible.\u001b[0m\u001b[31m\n",
      "\u001b[0mSuccessfully installed accelerate-0.29.3 annotated-types-0.6.0 caikit-0.26.19 caikit-nlp-0.4.9.dev2+gc12cb82 caikit-tgis-backend-0.1.31 email-validator-2.1.1 fastapi-0.110.2 grpcio-1.62.2 grpcio-health-checking-1.62.2 grpcio-reflection-1.62.2 itsdangerous-2.2.0 orjson-3.10.1 peft-0.6.0 protobuf-4.25.3 py-grpc-prometheus-0.8.0 py-to-proto-0.5.2 pydantic-2.7.0 pydantic-core-2.18.1 pydantic-extra-types-2.7.0 pydantic-settings-2.2.1 python-multipart-0.0.9 sentence-transformers-2.3.1 sse-starlette-2.1.0 starlette-0.37.2\n",
      "\n",
      "\u001b[1m[\u001b[0m\u001b[34;49mnotice\u001b[0m\u001b[1;39;49m]\u001b[0m\u001b[39;49m A new release of pip is available: \u001b[0m\u001b[31;49m23.2.1\u001b[0m\u001b[39;49m -> \u001b[0m\u001b[32;49m24.0\u001b[0m\n",
      "\u001b[1m[\u001b[0m\u001b[34;49mnotice\u001b[0m\u001b[1;39;49m]\u001b[0m\u001b[39;49m To update, run: \u001b[0m\u001b[32;49mpip install --upgrade pip\u001b[0m\n",
      "Cloning into 'caikit-nlp'...\n",
      "remote: Enumerating objects: 5954, done.\u001b[K\n",
      "remote: Counting objects: 100% (643/643), done.\u001b[K\n",
      "remote: Compressing objects: 100% (222/222), done.\u001b[K\n",
      "remote: Total 5954 (delta 444), reused 546 (delta 403), pack-reused 5311\u001b[K\n",
      "Receiving objects: 100% (5954/5954), 2.56 MiB | 30.14 MiB/s, done.\n",
      "Resolving deltas: 100% (4361/4361), done.\n"
     ]
    }
   ],
   "source": [
    "!pip install evaluate\n",
    "!pip install rouge_score\n",
    "\n",
    "!pip install chromadb\n",
    "\n",
    "!pip install git+https://github.com/caikit/caikit@v0.11.3\n",
    "!pip install git+https://github.com/caikit/caikit-nlp\n",
    "\n",
    "!git clone https://github.com/caikit/caikit-nlp"
   ]
  },
  {
   "cell_type": "code",
   "execution_count": 2,
   "id": "5dcb5f88-f0e5-4acc-8a4c-ba97293c64a3",
   "metadata": {},
   "outputs": [
    {
     "name": "stdout",
     "output_type": "stream",
     "text": [
      "Requirement already satisfied: chromadb in /opt/app-root/lib64/python3.11/site-packages (0.3.29)\n",
      "Requirement already satisfied: pandas>=1.3 in /opt/app-root/lib64/python3.11/site-packages (from chromadb) (2.0.3)\n",
      "Requirement already satisfied: requests>=2.28 in /opt/app-root/lib64/python3.11/site-packages (from chromadb) (2.31.0)\n",
      "Collecting pydantic<2.0,>=1.9 (from chromadb)\n",
      "  Obtaining dependency information for pydantic<2.0,>=1.9 from https://files.pythonhosted.org/packages/28/67/359f77395bedd707fbbd29dba5725d412b436250dfb14c2261adbd59d256/pydantic-1.10.15-cp311-cp311-manylinux_2_17_x86_64.manylinux2014_x86_64.whl.metadata\n",
      "  Downloading pydantic-1.10.15-cp311-cp311-manylinux_2_17_x86_64.manylinux2014_x86_64.whl.metadata (150 kB)\n",
      "\u001b[2K     \u001b[90m━━━━━━━━━━━━━━━━━━━━━━━━━━━━━━━━━━━━━━━\u001b[0m \u001b[32m150.6/150.6 kB\u001b[0m \u001b[31m6.0 MB/s\u001b[0m eta \u001b[36m0:00:00\u001b[0m\n",
      "\u001b[?25hRequirement already satisfied: hnswlib>=0.7 in /opt/app-root/lib64/python3.11/site-packages (from chromadb) (0.7.0)\n",
      "Requirement already satisfied: clickhouse-connect>=0.5.7 in /opt/app-root/lib64/python3.11/site-packages (from chromadb) (0.6.14)\n",
      "Requirement already satisfied: duckdb>=0.7.1 in /opt/app-root/lib64/python3.11/site-packages (from chromadb) (0.8.1)\n",
      "Collecting fastapi==0.85.1 (from chromadb)\n",
      "  Obtaining dependency information for fastapi==0.85.1 from https://files.pythonhosted.org/packages/bf/54/6eb1882b5cb29e6647df92ee74d0a93dab149234ec914563cab955fa667f/fastapi-0.85.1-py3-none-any.whl.metadata\n",
      "  Downloading fastapi-0.85.1-py3-none-any.whl.metadata (24 kB)\n",
      "Requirement already satisfied: uvicorn[standard]>=0.18.3 in /opt/app-root/lib64/python3.11/site-packages (from chromadb) (0.23.2)\n",
      "Requirement already satisfied: numpy>=1.21.6 in /opt/app-root/lib64/python3.11/site-packages (from chromadb) (1.24.4)\n",
      "Requirement already satisfied: posthog>=2.4.0 in /opt/app-root/lib64/python3.11/site-packages (from chromadb) (3.0.2)\n",
      "Requirement already satisfied: typing-extensions>=4.5.0 in /opt/app-root/lib64/python3.11/site-packages (from chromadb) (4.8.0)\n",
      "Requirement already satisfied: pulsar-client>=3.1.0 in /opt/app-root/lib64/python3.11/site-packages (from chromadb) (3.3.0)\n",
      "Requirement already satisfied: onnxruntime>=1.14.1 in /opt/app-root/lib64/python3.11/site-packages (from chromadb) (1.16.0)\n",
      "Requirement already satisfied: tokenizers>=0.13.2 in /opt/app-root/lib64/python3.11/site-packages (from chromadb) (0.13.3)\n",
      "Requirement already satisfied: tqdm>=4.65.0 in /opt/app-root/lib64/python3.11/site-packages (from chromadb) (4.66.1)\n",
      "Requirement already satisfied: overrides>=7.3.1 in /opt/app-root/lib64/python3.11/site-packages (from chromadb) (7.4.0)\n",
      "Collecting starlette==0.20.4 (from fastapi==0.85.1->chromadb)\n",
      "  Obtaining dependency information for starlette==0.20.4 from https://files.pythonhosted.org/packages/51/37/8ac52116984d6a0d8502ec2c7e4a4a78f862b76410cdb1a4bcb384c91cb3/starlette-0.20.4-py3-none-any.whl.metadata\n",
      "  Downloading starlette-0.20.4-py3-none-any.whl.metadata (5.5 kB)\n",
      "Requirement already satisfied: anyio<5,>=3.4.0 in /opt/app-root/lib64/python3.11/site-packages (from starlette==0.20.4->fastapi==0.85.1->chromadb) (3.7.1)\n",
      "Requirement already satisfied: certifi in /opt/app-root/lib64/python3.11/site-packages (from clickhouse-connect>=0.5.7->chromadb) (2023.7.22)\n",
      "Requirement already satisfied: urllib3>=1.26 in /opt/app-root/lib64/python3.11/site-packages (from clickhouse-connect>=0.5.7->chromadb) (1.26.16)\n",
      "Requirement already satisfied: pytz in /opt/app-root/lib64/python3.11/site-packages (from clickhouse-connect>=0.5.7->chromadb) (2023.3.post1)\n",
      "Requirement already satisfied: zstandard in /opt/app-root/lib64/python3.11/site-packages (from clickhouse-connect>=0.5.7->chromadb) (0.21.0)\n",
      "Requirement already satisfied: lz4 in /opt/app-root/lib64/python3.11/site-packages (from clickhouse-connect>=0.5.7->chromadb) (4.3.2)\n",
      "Requirement already satisfied: coloredlogs in /opt/app-root/lib64/python3.11/site-packages (from onnxruntime>=1.14.1->chromadb) (15.0.1)\n",
      "Requirement already satisfied: flatbuffers in /opt/app-root/lib64/python3.11/site-packages (from onnxruntime>=1.14.1->chromadb) (23.5.26)\n",
      "Requirement already satisfied: packaging in /opt/app-root/lib64/python3.11/site-packages (from onnxruntime>=1.14.1->chromadb) (23.1)\n",
      "Requirement already satisfied: protobuf in /opt/app-root/lib64/python3.11/site-packages (from onnxruntime>=1.14.1->chromadb) (4.25.3)\n",
      "Requirement already satisfied: sympy in /opt/app-root/lib64/python3.11/site-packages (from onnxruntime>=1.14.1->chromadb) (1.12)\n",
      "Requirement already satisfied: python-dateutil>=2.8.2 in /opt/app-root/lib64/python3.11/site-packages (from pandas>=1.3->chromadb) (2.8.2)\n",
      "Requirement already satisfied: tzdata>=2022.1 in /opt/app-root/lib64/python3.11/site-packages (from pandas>=1.3->chromadb) (2023.3)\n",
      "Requirement already satisfied: six>=1.5 in /opt/app-root/lib64/python3.11/site-packages (from posthog>=2.4.0->chromadb) (1.16.0)\n",
      "Requirement already satisfied: monotonic>=1.5 in /opt/app-root/lib64/python3.11/site-packages (from posthog>=2.4.0->chromadb) (1.6)\n",
      "Requirement already satisfied: backoff>=1.10.0 in /opt/app-root/lib64/python3.11/site-packages (from posthog>=2.4.0->chromadb) (2.2.1)\n",
      "Requirement already satisfied: charset-normalizer<4,>=2 in /opt/app-root/lib64/python3.11/site-packages (from requests>=2.28->chromadb) (3.2.0)\n",
      "Requirement already satisfied: idna<4,>=2.5 in /opt/app-root/lib64/python3.11/site-packages (from requests>=2.28->chromadb) (3.4)\n",
      "Requirement already satisfied: click>=7.0 in /opt/app-root/lib64/python3.11/site-packages (from uvicorn[standard]>=0.18.3->chromadb) (8.1.7)\n",
      "Requirement already satisfied: h11>=0.8 in /opt/app-root/lib64/python3.11/site-packages (from uvicorn[standard]>=0.18.3->chromadb) (0.14.0)\n",
      "Requirement already satisfied: httptools>=0.5.0 in /opt/app-root/lib64/python3.11/site-packages (from uvicorn[standard]>=0.18.3->chromadb) (0.6.0)\n",
      "Requirement already satisfied: python-dotenv>=0.13 in /opt/app-root/lib64/python3.11/site-packages (from uvicorn[standard]>=0.18.3->chromadb) (1.0.0)\n",
      "Requirement already satisfied: pyyaml>=5.1 in /opt/app-root/lib64/python3.11/site-packages (from uvicorn[standard]>=0.18.3->chromadb) (6.0.1)\n",
      "Requirement already satisfied: uvloop!=0.15.0,!=0.15.1,>=0.14.0 in /opt/app-root/lib64/python3.11/site-packages (from uvicorn[standard]>=0.18.3->chromadb) (0.17.0)\n",
      "Requirement already satisfied: watchfiles>=0.13 in /opt/app-root/lib64/python3.11/site-packages (from uvicorn[standard]>=0.18.3->chromadb) (0.20.0)\n",
      "Requirement already satisfied: websockets>=10.4 in /opt/app-root/lib64/python3.11/site-packages (from uvicorn[standard]>=0.18.3->chromadb) (11.0.3)\n",
      "Requirement already satisfied: humanfriendly>=9.1 in /opt/app-root/lib64/python3.11/site-packages (from coloredlogs->onnxruntime>=1.14.1->chromadb) (10.0)\n",
      "Requirement already satisfied: mpmath>=0.19 in /opt/app-root/lib64/python3.11/site-packages (from sympy->onnxruntime>=1.14.1->chromadb) (1.3.0)\n",
      "Requirement already satisfied: sniffio>=1.1 in /opt/app-root/lib64/python3.11/site-packages (from anyio<5,>=3.4.0->starlette==0.20.4->fastapi==0.85.1->chromadb) (1.3.0)\n",
      "Downloading fastapi-0.85.1-py3-none-any.whl (55 kB)\n",
      "\u001b[2K   \u001b[90m━━━━━━━━━━━━━━━━━━━━━━━━━━━━━━━━━━━━━━━━\u001b[0m \u001b[32m55.4/55.4 kB\u001b[0m \u001b[31m236.0 MB/s\u001b[0m eta \u001b[36m0:00:00\u001b[0m\n",
      "\u001b[?25hDownloading starlette-0.20.4-py3-none-any.whl (63 kB)\n",
      "\u001b[2K   \u001b[90m━━━━━━━━━━━━━━━━━━━━━━━━━━━━━━━━━━━━━━━━\u001b[0m \u001b[32m63.6/63.6 kB\u001b[0m \u001b[31m284.8 MB/s\u001b[0m eta \u001b[36m0:00:00\u001b[0m\n",
      "\u001b[?25hDownloading pydantic-1.10.15-cp311-cp311-manylinux_2_17_x86_64.manylinux2014_x86_64.whl (3.1 MB)\n",
      "\u001b[2K   \u001b[90m━━━━━━━━━━━━━━━━━━━━━━━━━━━━━━━━━━━━━━━━\u001b[0m \u001b[32m3.1/3.1 MB\u001b[0m \u001b[31m68.8 MB/s\u001b[0m eta \u001b[36m0:00:00\u001b[0ma \u001b[36m0:00:01\u001b[0m\n",
      "\u001b[?25hInstalling collected packages: pydantic, starlette, fastapi\n",
      "  Attempting uninstall: pydantic\n",
      "    Found existing installation: pydantic 2.7.0\n",
      "    Uninstalling pydantic-2.7.0:\n",
      "      Successfully uninstalled pydantic-2.7.0\n",
      "  Attempting uninstall: starlette\n",
      "    Found existing installation: starlette 0.37.2\n",
      "    Uninstalling starlette-0.37.2:\n",
      "      Successfully uninstalled starlette-0.37.2\n",
      "  Attempting uninstall: fastapi\n",
      "    Found existing installation: fastapi 0.110.2\n",
      "    Uninstalling fastapi-0.110.2:\n",
      "      Successfully uninstalled fastapi-0.110.2\n",
      "\u001b[31mERROR: pip's dependency resolver does not currently take into account all the packages that are installed. This behaviour is the source of the following dependency conflicts.\n",
      "pydantic-extra-types 2.7.0 requires pydantic>=2.5.2, but you have pydantic 1.10.15 which is incompatible.\n",
      "pydantic-settings 2.2.1 requires pydantic>=2.3.0, but you have pydantic 1.10.15 which is incompatible.\n",
      "kfp 1.8.22 requires protobuf<4,>=3.13.0, but you have protobuf 4.25.3 which is incompatible.\u001b[0m\u001b[31m\n",
      "\u001b[0mSuccessfully installed fastapi-0.85.1 pydantic-1.10.15 starlette-0.20.4\n",
      "\n",
      "\u001b[1m[\u001b[0m\u001b[34;49mnotice\u001b[0m\u001b[1;39;49m]\u001b[0m\u001b[39;49m A new release of pip is available: \u001b[0m\u001b[31;49m23.2.1\u001b[0m\u001b[39;49m -> \u001b[0m\u001b[32;49m24.0\u001b[0m\n",
      "\u001b[1m[\u001b[0m\u001b[34;49mnotice\u001b[0m\u001b[1;39;49m]\u001b[0m\u001b[39;49m To update, run: \u001b[0m\u001b[32;49mpip install --upgrade pip\u001b[0m\n",
      "\n",
      "\u001b[1m[\u001b[0m\u001b[34;49mnotice\u001b[0m\u001b[1;39;49m]\u001b[0m\u001b[39;49m A new release of pip is available: \u001b[0m\u001b[31;49m23.2.1\u001b[0m\u001b[39;49m -> \u001b[0m\u001b[32;49m24.0\u001b[0m\n",
      "\u001b[1m[\u001b[0m\u001b[34;49mnotice\u001b[0m\u001b[1;39;49m]\u001b[0m\u001b[39;49m To update, run: \u001b[0m\u001b[32;49mpip install --upgrade pip\u001b[0m\n"
     ]
    }
   ],
   "source": [
    "!pip install chromadb\n",
    "!pip install -q caikit-nlp-client"
   ]
  },
  {
   "cell_type": "markdown",
   "id": "6a196e07-7980-43f3-906e-7373367fe896",
   "metadata": {},
   "source": [
    "### Set the Inference server url (replace with your own address) and the model-id"
   ]
  },
  {
   "cell_type": "code",
   "execution_count": 3,
   "id": "9aaedb0b-4a37-418e-9608-8abcc819f87a",
   "metadata": {
    "tags": []
   },
   "outputs": [],
   "source": [
    "inference_server_url = \"http://ollama.myredis.svc.cluster.local:11434\"\n",
    "model_id = \"Llama-2-7b-chat-hf\"\n",
    "\n",
    "# If your endpoint is using a self-signed certificate, export the certificate chain as a .pem file and provide its path\n",
    "# Example: certificate_chain = \"certificate.pem\"\n",
    "# Adjust llm instantiation to use this parameter or not\n",
    "certificate_chain_file = \"certificate.pem\""
   ]
  },
  {
   "cell_type": "code",
   "execution_count": 4,
   "id": "8a83a615-62f4-4fcf-924c-a9096a3d511c",
   "metadata": {
    "tags": []
   },
   "outputs": [],
   "source": [
    "# Optional, requirements if they are not already present\n",
    "# !pip -q install grpcio grpcio-reflection"
   ]
  },
  {
   "cell_type": "markdown",
   "id": "88fbc3e3-6612-49eb-b07e-710e27f4d2df",
   "metadata": {
    "tags": []
   },
   "source": [
    "### Load some data from the folder where we have stored the PDF documentation"
   ]
  },
  {
   "cell_type": "code",
   "execution_count": 5,
   "id": "d31f9b89-3613-42fc-aa6f-683ac78accff",
   "metadata": {
    "tags": []
   },
   "outputs": [],
   "source": [
    "from langchain.document_loaders import PyPDFDirectoryLoader\n",
    "\n",
    "pdf_folder_path = 'rhods-doc'\n",
    "\n",
    "loader = PyPDFDirectoryLoader(pdf_folder_path)\n",
    "docs = loader.load()"
   ]
  },
  {
   "cell_type": "markdown",
   "id": "3c4547b1-4dea-4c08-ad79-c70186f25611",
   "metadata": {},
   "source": [
    "### Split the data in chunks large enough to have meaningful answers, and some overlap not to miss anything"
   ]
  },
  {
   "cell_type": "code",
   "execution_count": 6,
   "id": "3a7a68c1-2308-410e-b50f-9270c00b1d68",
   "metadata": {
    "tags": []
   },
   "outputs": [],
   "source": [
    "from langchain.text_splitter import RecursiveCharacterTextSplitter\n",
    "\n",
    "text_splitter = RecursiveCharacterTextSplitter(chunk_size = 1024, chunk_overlap = 40)\n",
    "all_splits = text_splitter.split_documents(docs)"
   ]
  },
  {
   "cell_type": "markdown",
   "id": "91e32e34-aa32-4a57-b4ac-3e2e490b1be6",
   "metadata": {},
   "source": [
    "### Store the data as embeddings in a vector database (Chroma)"
   ]
  },
  {
   "cell_type": "code",
   "execution_count": 7,
   "id": "af325249-120a-49e4-be21-5b902e054819",
   "metadata": {
    "tags": []
   },
   "outputs": [
    {
     "data": {
      "application/vnd.jupyter.widget-view+json": {
       "model_id": "5af54d8893ec423fba1d8aac26e7b732",
       "version_major": 2,
       "version_minor": 0
      },
      "text/plain": [
       "modules.json:   0%|          | 0.00/349 [00:00<?, ?B/s]"
      ]
     },
     "metadata": {},
     "output_type": "display_data"
    },
    {
     "data": {
      "application/vnd.jupyter.widget-view+json": {
       "model_id": "231ec21fae9e42f9b6c359ce09199034",
       "version_major": 2,
       "version_minor": 0
      },
      "text/plain": [
       "config_sentence_transformers.json:   0%|          | 0.00/116 [00:00<?, ?B/s]"
      ]
     },
     "metadata": {},
     "output_type": "display_data"
    },
    {
     "data": {
      "application/vnd.jupyter.widget-view+json": {
       "model_id": "754f80bbe4d540239c8d41569f5e7b22",
       "version_major": 2,
       "version_minor": 0
      },
      "text/plain": [
       "README.md:   0%|          | 0.00/10.6k [00:00<?, ?B/s]"
      ]
     },
     "metadata": {},
     "output_type": "display_data"
    },
    {
     "data": {
      "application/vnd.jupyter.widget-view+json": {
       "model_id": "8f36594b797c4ce696ca14333ece550a",
       "version_major": 2,
       "version_minor": 0
      },
      "text/plain": [
       "sentence_bert_config.json:   0%|          | 0.00/53.0 [00:00<?, ?B/s]"
      ]
     },
     "metadata": {},
     "output_type": "display_data"
    },
    {
     "data": {
      "application/vnd.jupyter.widget-view+json": {
       "model_id": "f8c8e837a3414db788480e0d5254fb3e",
       "version_major": 2,
       "version_minor": 0
      },
      "text/plain": [
       "config.json:   0%|          | 0.00/571 [00:00<?, ?B/s]"
      ]
     },
     "metadata": {},
     "output_type": "display_data"
    },
    {
     "data": {
      "application/vnd.jupyter.widget-view+json": {
       "model_id": "f6cc7b17207e41fba8c6064436f6f372",
       "version_major": 2,
       "version_minor": 0
      },
      "text/plain": [
       "model.safetensors:   0%|          | 0.00/438M [00:00<?, ?B/s]"
      ]
     },
     "metadata": {},
     "output_type": "display_data"
    },
    {
     "data": {
      "application/vnd.jupyter.widget-view+json": {
       "model_id": "31aa01317d4b40b1857542cf92e25069",
       "version_major": 2,
       "version_minor": 0
      },
      "text/plain": [
       "tokenizer_config.json:   0%|          | 0.00/363 [00:00<?, ?B/s]"
      ]
     },
     "metadata": {},
     "output_type": "display_data"
    },
    {
     "data": {
      "application/vnd.jupyter.widget-view+json": {
       "model_id": "2426553070014f34b1b4f147c5580e78",
       "version_major": 2,
       "version_minor": 0
      },
      "text/plain": [
       "vocab.txt:   0%|          | 0.00/232k [00:00<?, ?B/s]"
      ]
     },
     "metadata": {},
     "output_type": "display_data"
    },
    {
     "data": {
      "application/vnd.jupyter.widget-view+json": {
       "model_id": "72902b9563a64c5b8229ba1edf066264",
       "version_major": 2,
       "version_minor": 0
      },
      "text/plain": [
       "tokenizer.json:   0%|          | 0.00/466k [00:00<?, ?B/s]"
      ]
     },
     "metadata": {},
     "output_type": "display_data"
    },
    {
     "data": {
      "application/vnd.jupyter.widget-view+json": {
       "model_id": "91b172aa2f634760a4c04cc05b648d17",
       "version_major": 2,
       "version_minor": 0
      },
      "text/plain": [
       "special_tokens_map.json:   0%|          | 0.00/239 [00:00<?, ?B/s]"
      ]
     },
     "metadata": {},
     "output_type": "display_data"
    },
    {
     "data": {
      "application/vnd.jupyter.widget-view+json": {
       "model_id": "e521e3fd56bb420bb616d40c2f9d78dd",
       "version_major": 2,
       "version_minor": 0
      },
      "text/plain": [
       "1_Pooling/config.json:   0%|          | 0.00/190 [00:00<?, ?B/s]"
      ]
     },
     "metadata": {},
     "output_type": "display_data"
    },
    {
     "name": "stderr",
     "output_type": "stream",
     "text": [
      "Unable to connect optimized C data functions [No module named '_testbuffer'], falling back to pure Python\n"
     ]
    }
   ],
   "source": [
    "from langchain.embeddings.huggingface import HuggingFaceEmbeddings\n",
    "from langchain.vectorstores import Chroma\n",
    "\n",
    "vectorstore = Chroma.from_documents(documents=all_splits, embedding=HuggingFaceEmbeddings())"
   ]
  },
  {
   "cell_type": "markdown",
   "id": "34903f71-99cc-4d4d-a97a-dc530e9c5a47",
   "metadata": {},
   "source": [
    "### Test data retrieving"
   ]
  },
  {
   "cell_type": "code",
   "execution_count": 8,
   "id": "bb47f639-98bc-4f59-b6b6-56e01affb708",
   "metadata": {
    "tags": []
   },
   "outputs": [
    {
     "data": {
      "text/plain": [
       "[Document(page_content='CHAPTER 3. WORKING ON DATA SCIENCE PROJECTS\\n17', metadata={'source': 'rhods-doc/red_hat_openshift_ai_self-managed-2-latest-working_on_data_science_projects-en-us.pdf', 'page': 20}),\n",
       " Document(page_content='Procedure\\n1\\n. \\nFrom the OpenShift AI dashboard, click \\nData Science Projects\\n.\\nThe \\nData science projects\\n page opens.\\n2\\n. \\nClick \\nCreate data science project\\n.\\nThe \\nCreate a data science project\\n dialog opens.\\n3\\n. \\nEnter a \\nname\\n for your data science project.\\n4\\n. \\nOptional: Edit the \\nresource name\\n for your data science project. The resource name must\\nconsist of lowercase alphanumeric characters, \\n-\\n, and must start and end with an alphanumeric\\ncharacter.\\n5\\n. \\nEnter a \\ndescription\\n for your data science project.\\n6\\n. \\nClick \\nCreate\\n.\\nA project details page opens. From this page, you can create workbenches, add cluster storage\\nand data connections, import pipelines, and deploy models.\\nVerification\\nThe project that you created is displayed on the \\nData science projects\\n page.\\n3.1.2. Updating a data science project\\nYou can update your data science project’s details by changing your project’s name and description text.\\nPrerequisites\\nYou have logged in to Red Hat OpenShift AI.', metadata={'source': 'rhods-doc/red_hat_openshift_ai_self-managed-2-latest-working_on_data_science_projects-en-us.pdf', 'page': 17}),\n",
       " Document(page_content=\"Data science projects\\n page. In addition, you cannot use features\\nexclusive to OpenShift AI, such as workbenches and model serving, with a standard\\nOpenShift project.\\nTo classify your OpenShift project as a data science project, and to make available\\nfeatures exclusive to OpenShift AI, you must add the label \\nopendatahub.io/dashboard:\\n \\n'true'\\n to the project namespace. After you add this label, your project is subsequently\\nshown on the \\nData science projects\\n page.\\n3.1. USING DATA SCIENCE PROJECTS\\n3.1.1. Creating a data science project\\nTo start your data science work, create a data science project. Creating a project helps you organize your\\nwork in one place. You can also enhance your data science project by adding the following functionality:\\nWorkbenches\\nStorage for your project’s cluster\\nData connections\\nModel servers\\nPrerequisites\\nYou have logged in to Red Hat OpenShift AI.\\nIf you are using specialized OpenShift AI groups, you are part of the user group or admin group\\n(for example, \\nrhoai-users\\n or\", metadata={'source': 'rhods-doc/red_hat_openshift_ai_self-managed-2-latest-working_on_data_science_projects-en-us.pdf', 'page': 16}),\n",
       " Document(page_content='2.1. UPLOADING AN EXISTING NOTEBOOK FILE FROM A GIT REPOSITORY USING JUPYTERLAB\\n2.2. UPLOADING AN EXISTING NOTEBOOK FILE FROM A GIT REPOSITORY USING THE COMMAND LINE\\nINTERFACE\\n2.3. UPDATING YOUR PROJECT WITH CHANGES FROM A REMOTE GIT REPOSITORY\\n2.4. PUSHING PROJECT CHANGES TO A GIT REPOSITORY\\nCHAPTER 3. WORKING ON DATA SCIENCE PROJECTS\\n3.1. USING DATA SCIENCE PROJECTS\\n3.1.1. Creating a data science project\\n3.1.2. Updating a data science project\\n3.1.3. Deleting a data science project\\n3.2. USING PROJECT WORKBENCHES\\n3.2.1. Creating a project workbench\\n3.2.2. Starting a workbench\\n3.2.3. Updating a project workbench\\n3.2.4. Deleting a workbench from a data science project\\n3.3. USING DATA CONNECTIONS\\n3.3.1. Adding a data connection to your data science project\\n3.3.2. Deleting a data connection\\n3.3.3. Updating a connected data source\\n3.4. CONFIGURING CLUSTER STORAGE\\n3.4.1. Adding cluster storage to your data science project\\n3.4.2. Updating cluster storage\\n3.4.3. Deleting cluster storage from a data science project', metadata={'source': 'rhods-doc/red_hat_openshift_ai_self-managed-2-latest-working_on_data_science_projects-en-us.pdf', 'page': 4})]"
      ]
     },
     "execution_count": 8,
     "metadata": {},
     "output_type": "execute_result"
    }
   ],
   "source": [
    "question = \"How do I create a Data Science Project\"\n",
    "docs = vectorstore.similarity_search(question)\n",
    "docs"
   ]
  },
  {
   "cell_type": "markdown",
   "id": "12f4dd9a-9ac0-407a-9455-0a5906aa9ed3",
   "metadata": {},
   "source": [
    "### Create the chain"
   ]
  },
  {
   "cell_type": "code",
   "execution_count": 9,
   "id": "eda3cceb-2c39-4a74-bf72-a733b22dfd22",
   "metadata": {
    "tags": []
   },
   "outputs": [
    {
     "ename": "ValueError",
     "evalue": "\"CaikitLLM\" object has no field \"inference_server\"",
     "output_type": "error",
     "traceback": [
      "\u001b[0;31m---------------------------------------------------------------------------\u001b[0m",
      "\u001b[0;31mValueError\u001b[0m                                Traceback (most recent call last)",
      "Cell \u001b[0;32mIn[9], line 20\u001b[0m\n\u001b[1;32m      7\u001b[0m template\u001b[38;5;241m=\u001b[39m\u001b[38;5;124m\"\"\"\u001b[39m\u001b[38;5;124m<s>[INST] <<SYS>>\u001b[39m\n\u001b[1;32m      8\u001b[0m \u001b[38;5;124mYou are a helpful, respectful and honest assistant.\u001b[39m\n\u001b[1;32m      9\u001b[0m \u001b[38;5;124mYou will be given a question you need to answer, and a context to provide you with information. You must answer the question based as much as possible on this context.\u001b[39m\n\u001b[0;32m   (...)\u001b[0m\n\u001b[1;32m     16\u001b[0m \u001b[38;5;124mContext: \u001b[39m\u001b[38;5;132;01m{context}\u001b[39;00m\u001b[38;5;124m [/INST]\u001b[39m\n\u001b[1;32m     17\u001b[0m \u001b[38;5;124m\"\"\"\u001b[39m\n\u001b[1;32m     18\u001b[0m QA_CHAIN_PROMPT \u001b[38;5;241m=\u001b[39m PromptTemplate\u001b[38;5;241m.\u001b[39mfrom_template(template)\n\u001b[0;32m---> 20\u001b[0m llm \u001b[38;5;241m=\u001b[39m \u001b[43mcaikit_tgis_langchain\u001b[49m\u001b[38;5;241;43m.\u001b[39;49m\u001b[43mCaikitLLM\u001b[49m\u001b[43m(\u001b[49m\n\u001b[1;32m     21\u001b[0m \u001b[43m    \u001b[49m\u001b[43minference_server_url\u001b[49m\u001b[38;5;241;43m=\u001b[39;49m\u001b[43minference_server_url\u001b[49m\u001b[43m,\u001b[49m\n\u001b[1;32m     22\u001b[0m \u001b[43m    \u001b[49m\u001b[43mmodel_id\u001b[49m\u001b[38;5;241;43m=\u001b[39;49m\u001b[43mmodel_id\u001b[49m\u001b[43m,\u001b[49m\n\u001b[1;32m     23\u001b[0m \u001b[43m    \u001b[49m\u001b[43mcertificate_chain\u001b[49m\u001b[38;5;241;43m=\u001b[39;49m\u001b[43mcertificate_chain_file\u001b[49m\u001b[43m,\u001b[49m\n\u001b[1;32m     24\u001b[0m \u001b[43m    \u001b[49m\u001b[43mstreaming\u001b[49m\u001b[38;5;241;43m=\u001b[39;49m\u001b[38;5;28;43;01mTrue\u001b[39;49;00m\n\u001b[1;32m     25\u001b[0m \u001b[43m)\u001b[49m\n\u001b[1;32m     27\u001b[0m qa_chain \u001b[38;5;241m=\u001b[39m RetrievalQA\u001b[38;5;241m.\u001b[39mfrom_chain_type(llm,\n\u001b[1;32m     28\u001b[0m                                        retriever\u001b[38;5;241m=\u001b[39mvectorstore\u001b[38;5;241m.\u001b[39mas_retriever(),\n\u001b[1;32m     29\u001b[0m                                        chain_type_kwargs\u001b[38;5;241m=\u001b[39m{\u001b[38;5;124m\"\u001b[39m\u001b[38;5;124mprompt\u001b[39m\u001b[38;5;124m\"\u001b[39m: QA_CHAIN_PROMPT},\n\u001b[1;32m     30\u001b[0m                                        return_source_documents\u001b[38;5;241m=\u001b[39m\u001b[38;5;28;01mTrue\u001b[39;00m)\n",
      "File \u001b[0;32m~/rag-ocp-sample/rag_ollama_chroma/caikit_tgis_langchain.py:21\u001b[0m, in \u001b[0;36mCaikitLLM.__init__\u001b[0;34m(self, inference_server_url, model_id, certificate_chain, streaming)\u001b[0m\n\u001b[1;32m     12\u001b[0m \u001b[38;5;28;01mdef\u001b[39;00m \u001b[38;5;21m__init__\u001b[39m(\n\u001b[1;32m     13\u001b[0m     \u001b[38;5;28mself\u001b[39m,\n\u001b[1;32m     14\u001b[0m     inference_server_url: \u001b[38;5;28mstr\u001b[39m,\n\u001b[0;32m   (...)\u001b[0m\n\u001b[1;32m     17\u001b[0m     streaming: \u001b[38;5;28mbool\u001b[39m \u001b[38;5;241m=\u001b[39m \u001b[38;5;28;01mFalse\u001b[39;00m,\n\u001b[1;32m     18\u001b[0m ):\n\u001b[1;32m     19\u001b[0m     \u001b[38;5;28msuper\u001b[39m()\u001b[38;5;241m.\u001b[39m\u001b[38;5;21m__init__\u001b[39m()\n\u001b[0;32m---> 21\u001b[0m     \u001b[38;5;28;43mself\u001b[39;49m\u001b[38;5;241;43m.\u001b[39;49m\u001b[43minference_server\u001b[49m \u001b[38;5;241m=\u001b[39m inference_server_url\n\u001b[1;32m     22\u001b[0m     \u001b[38;5;28mself\u001b[39m\u001b[38;5;241m.\u001b[39mmodel_id \u001b[38;5;241m=\u001b[39m model_id\n\u001b[1;32m     24\u001b[0m     \u001b[38;5;28;01mif\u001b[39;00m certificate_chain:\n",
      "File \u001b[0;32m/opt/app-root/lib64/python3.11/site-packages/pydantic/main.py:357\u001b[0m, in \u001b[0;36mpydantic.main.BaseModel.__setattr__\u001b[0;34m()\u001b[0m\n",
      "\u001b[0;31mValueError\u001b[0m: \"CaikitLLM\" object has no field \"inference_server\""
     ]
    }
   ],
   "source": [
    "from langchain.chains import RetrievalQA\n",
    "import caikit_tgis_langchain\n",
    "from langchain.callbacks.streaming_stdout import StreamingStdOutCallbackHandler\n",
    "from langchain.prompts import PromptTemplate\n",
    "\n",
    "# NOTE: This template syntax is specific to Llama2\n",
    "template=\"\"\"<s>[INST] <<SYS>>\n",
    "You are a helpful, respectful and honest assistant.\n",
    "You will be given a question you need to answer, and a context to provide you with information. You must answer the question based as much as possible on this context.\n",
    "Always answer as helpfully as possible, while being safe. Your answers should not include any harmful, unethical, racist, sexist, toxic, dangerous, or illegal content. Please ensure that your responses are socially unbiased and positive in nature.\n",
    "\n",
    "If a question does not make any sense, or is not factually coherent, explain why instead of answering something not correct. If you don't know the answer to a question, please don't share false information.\n",
    "<</SYS>>\n",
    "\n",
    "Question: {question}\n",
    "Context: {context} [/INST]\n",
    "\"\"\"\n",
    "QA_CHAIN_PROMPT = PromptTemplate.from_template(template)\n",
    "\n",
    "llm = caikit_tgis_langchain.CaikitLLM(\n",
    "    inference_server_url=inference_server_url,\n",
    "    model_id=model_id,\n",
    "    certificate_chain=certificate_chain_file,\n",
    "    streaming=True\n",
    ")\n",
    "\n",
    "qa_chain = RetrievalQA.from_chain_type(llm,\n",
    "                                       retriever=vectorstore.as_retriever(),\n",
    "                                       chain_type_kwargs={\"prompt\": QA_CHAIN_PROMPT},\n",
    "                                       return_source_documents=True)"
   ]
  },
  {
   "cell_type": "markdown",
   "id": "03510738-5704-4b56-9ce8-db99d0259757",
   "metadata": {},
   "source": [
    "### Launch the query"
   ]
  },
  {
   "cell_type": "code",
   "execution_count": null,
   "id": "eb26a45d-7953-42cb-aab5-cf2e8c63213d",
   "metadata": {
    "tags": []
   },
   "outputs": [],
   "source": [
    "question = \"How do I create a Data Science Project?\"\n",
    "result = qa_chain({\"query\": question, \"min_new_tokens\": 100, \"max_new_tokens\": 1024}, callbacks=[StreamingStdOutCallbackHandler()])"
   ]
  },
  {
   "cell_type": "markdown",
   "id": "406b28ac-a3ab-462c-add7-e5473eaea92f",
   "metadata": {},
   "source": [
    "### Print the sources"
   ]
  },
  {
   "cell_type": "code",
   "execution_count": null,
   "id": "07166717-6b89-47de-baab-f91695602e21",
   "metadata": {
    "tags": []
   },
   "outputs": [],
   "source": [
    "def remove_duplicates(input_list):\n",
    "    unique_list = []\n",
    "    for item in input_list:\n",
    "        if item.metadata['source'] not in unique_list:\n",
    "            unique_list.append(item.metadata['source'])\n",
    "    return unique_list\n",
    "\n",
    "results = remove_duplicates(result['source_documents'])\n",
    "\n",
    "for s in results:\n",
    "    print(s)"
   ]
  }
 ],
 "metadata": {
  "kernelspec": {
   "display_name": "Python 3.11",
   "language": "python",
   "name": "python3"
  },
  "language_info": {
   "codemirror_mode": {
    "name": "ipython",
    "version": 3
   },
   "file_extension": ".py",
   "mimetype": "text/x-python",
   "name": "python",
   "nbconvert_exporter": "python",
   "pygments_lexer": "ipython3",
   "version": "3.11.4"
  }
 },
 "nbformat": 4,
 "nbformat_minor": 5
}
