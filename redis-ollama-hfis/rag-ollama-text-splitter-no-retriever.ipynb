{
 "cells": [
  {
   "cell_type": "code",
   "execution_count": 1,
   "id": "d61254d6-16ab-4703-8660-ffbe29a12d48",
   "metadata": {
    "tags": []
   },
   "outputs": [
    {
     "name": "stdout",
     "output_type": "stream",
     "text": [
      "Requirement already satisfied: langchain-community==0.0.11 in /opt/app-root/lib64/python3.11/site-packages (0.0.11)\n",
      "Requirement already satisfied: pypdf==3.17.4 in /opt/app-root/lib64/python3.11/site-packages (3.17.4)\n",
      "Requirement already satisfied: langchain==0.1.0 in /opt/app-root/lib64/python3.11/site-packages (0.1.0)\n",
      "Requirement already satisfied: python-dotenv==1.0.0 in /opt/app-root/lib64/python3.11/site-packages (1.0.0)\n",
      "Requirement already satisfied: langchain-openai==0.0.2.post1 in /opt/app-root/lib64/python3.11/site-packages (0.0.2.post1)\n",
      "Requirement already satisfied: faiss-cpu==1.7.4 in /opt/app-root/lib64/python3.11/site-packages (1.7.4)\n",
      "Requirement already satisfied: tiktoken==0.5.2 in /opt/app-root/lib64/python3.11/site-packages (0.5.2)\n",
      "Requirement already satisfied: langchainhub==0.1.14 in /opt/app-root/lib64/python3.11/site-packages (0.1.14)\n",
      "Requirement already satisfied: pip in /opt/app-root/lib64/python3.11/site-packages (23.2.1)\n",
      "Requirement already satisfied: sentence-transformers in /opt/app-root/lib64/python3.11/site-packages (2.2.2)\n",
      "Requirement already satisfied: PyYAML>=5.3 in /opt/app-root/lib64/python3.11/site-packages (from langchain-community==0.0.11) (6.0.1)\n",
      "Requirement already satisfied: SQLAlchemy<3,>=1.4 in /opt/app-root/lib64/python3.11/site-packages (from langchain-community==0.0.11) (2.0.21)\n",
      "Requirement already satisfied: aiohttp<4.0.0,>=3.8.3 in /opt/app-root/lib64/python3.11/site-packages (from langchain-community==0.0.11) (3.8.5)\n",
      "Requirement already satisfied: dataclasses-json<0.7,>=0.5.7 in /opt/app-root/lib64/python3.11/site-packages (from langchain-community==0.0.11) (0.6.0)\n",
      "Requirement already satisfied: langchain-core<0.2,>=0.1.8 in /opt/app-root/lib64/python3.11/site-packages (from langchain-community==0.0.11) (0.1.23)\n",
      "Requirement already satisfied: langsmith<0.1.0,>=0.0.63 in /opt/app-root/lib64/python3.11/site-packages (from langchain-community==0.0.11) (0.0.87)\n",
      "Requirement already satisfied: numpy<2,>=1 in /opt/app-root/lib64/python3.11/site-packages (from langchain-community==0.0.11) (1.24.4)\n",
      "Requirement already satisfied: requests<3,>=2 in /opt/app-root/lib64/python3.11/site-packages (from langchain-community==0.0.11) (2.31.0)\n",
      "Requirement already satisfied: tenacity<9.0.0,>=8.1.0 in /opt/app-root/lib64/python3.11/site-packages (from langchain-community==0.0.11) (8.2.3)\n",
      "Requirement already satisfied: jsonpatch<2.0,>=1.33 in /opt/app-root/lib64/python3.11/site-packages (from langchain==0.1.0) (1.33)\n",
      "Requirement already satisfied: pydantic<3,>=1 in /opt/app-root/lib64/python3.11/site-packages (from langchain==0.1.0) (1.10.12)\n",
      "Requirement already satisfied: openai<2.0.0,>=1.6.1 in /opt/app-root/lib64/python3.11/site-packages (from langchain-openai==0.0.2.post1) (1.23.6)\n",
      "Requirement already satisfied: regex>=2022.1.18 in /opt/app-root/lib64/python3.11/site-packages (from tiktoken==0.5.2) (2023.8.8)\n",
      "Requirement already satisfied: types-requests<3.0.0.0,>=2.31.0.2 in /opt/app-root/lib64/python3.11/site-packages (from langchainhub==0.1.14) (2.31.0.20240406)\n",
      "Requirement already satisfied: transformers<5.0.0,>=4.6.0 in /opt/app-root/lib64/python3.11/site-packages (from sentence-transformers) (4.33.2)\n",
      "Requirement already satisfied: tqdm in /opt/app-root/lib64/python3.11/site-packages (from sentence-transformers) (4.66.1)\n",
      "Requirement already satisfied: torch>=1.6.0 in /opt/app-root/lib64/python3.11/site-packages (from sentence-transformers) (2.0.1+cu118)\n",
      "Requirement already satisfied: torchvision in /opt/app-root/lib64/python3.11/site-packages (from sentence-transformers) (0.15.2+cu118)\n",
      "Requirement already satisfied: scikit-learn in /opt/app-root/lib64/python3.11/site-packages (from sentence-transformers) (1.3.1)\n",
      "Requirement already satisfied: scipy in /opt/app-root/lib64/python3.11/site-packages (from sentence-transformers) (1.11.2)\n",
      "Requirement already satisfied: nltk in /opt/app-root/lib64/python3.11/site-packages (from sentence-transformers) (3.8.1)\n",
      "Requirement already satisfied: sentencepiece in /opt/app-root/lib64/python3.11/site-packages (from sentence-transformers) (0.1.99)\n",
      "Requirement already satisfied: huggingface-hub>=0.4.0 in /opt/app-root/lib64/python3.11/site-packages (from sentence-transformers) (0.16.4)\n",
      "Requirement already satisfied: attrs>=17.3.0 in /opt/app-root/lib64/python3.11/site-packages (from aiohttp<4.0.0,>=3.8.3->langchain-community==0.0.11) (23.1.0)\n",
      "Requirement already satisfied: charset-normalizer<4.0,>=2.0 in /opt/app-root/lib64/python3.11/site-packages (from aiohttp<4.0.0,>=3.8.3->langchain-community==0.0.11) (3.2.0)\n",
      "Requirement already satisfied: multidict<7.0,>=4.5 in /opt/app-root/lib64/python3.11/site-packages (from aiohttp<4.0.0,>=3.8.3->langchain-community==0.0.11) (6.0.4)\n",
      "Requirement already satisfied: async-timeout<5.0,>=4.0.0a3 in /opt/app-root/lib64/python3.11/site-packages (from aiohttp<4.0.0,>=3.8.3->langchain-community==0.0.11) (4.0.3)\n",
      "Requirement already satisfied: yarl<2.0,>=1.0 in /opt/app-root/lib64/python3.11/site-packages (from aiohttp<4.0.0,>=3.8.3->langchain-community==0.0.11) (1.9.2)\n",
      "Requirement already satisfied: frozenlist>=1.1.1 in /opt/app-root/lib64/python3.11/site-packages (from aiohttp<4.0.0,>=3.8.3->langchain-community==0.0.11) (1.4.0)\n",
      "Requirement already satisfied: aiosignal>=1.1.2 in /opt/app-root/lib64/python3.11/site-packages (from aiohttp<4.0.0,>=3.8.3->langchain-community==0.0.11) (1.3.1)\n",
      "Requirement already satisfied: marshmallow<4.0.0,>=3.18.0 in /opt/app-root/lib64/python3.11/site-packages (from dataclasses-json<0.7,>=0.5.7->langchain-community==0.0.11) (3.20.1)\n",
      "Requirement already satisfied: typing-inspect<1,>=0.4.0 in /opt/app-root/lib64/python3.11/site-packages (from dataclasses-json<0.7,>=0.5.7->langchain-community==0.0.11) (0.9.0)\n",
      "Requirement already satisfied: filelock in /opt/app-root/lib64/python3.11/site-packages (from huggingface-hub>=0.4.0->sentence-transformers) (3.12.4)\n",
      "Requirement already satisfied: fsspec in /opt/app-root/lib64/python3.11/site-packages (from huggingface-hub>=0.4.0->sentence-transformers) (2023.9.2)\n",
      "Requirement already satisfied: typing-extensions>=3.7.4.3 in /opt/app-root/lib64/python3.11/site-packages (from huggingface-hub>=0.4.0->sentence-transformers) (4.8.0)\n",
      "Requirement already satisfied: packaging>=20.9 in /opt/app-root/lib64/python3.11/site-packages (from huggingface-hub>=0.4.0->sentence-transformers) (23.2)\n",
      "Requirement already satisfied: jsonpointer>=1.9 in /opt/app-root/lib64/python3.11/site-packages (from jsonpatch<2.0,>=1.33->langchain==0.1.0) (2.4)\n",
      "Requirement already satisfied: anyio<5,>=3 in /opt/app-root/lib64/python3.11/site-packages (from langchain-core<0.2,>=0.1.8->langchain-community==0.0.11) (3.7.1)\n",
      "Requirement already satisfied: distro<2,>=1.7.0 in /opt/app-root/lib64/python3.11/site-packages (from openai<2.0.0,>=1.6.1->langchain-openai==0.0.2.post1) (1.8.0)\n",
      "Requirement already satisfied: httpx<1,>=0.23.0 in /opt/app-root/lib64/python3.11/site-packages (from openai<2.0.0,>=1.6.1->langchain-openai==0.0.2.post1) (0.25.0)\n",
      "Requirement already satisfied: sniffio in /opt/app-root/lib64/python3.11/site-packages (from openai<2.0.0,>=1.6.1->langchain-openai==0.0.2.post1) (1.3.0)\n",
      "Requirement already satisfied: idna<4,>=2.5 in /opt/app-root/lib64/python3.11/site-packages (from requests<3,>=2->langchain-community==0.0.11) (3.4)\n",
      "Requirement already satisfied: urllib3<3,>=1.21.1 in /opt/app-root/lib64/python3.11/site-packages (from requests<3,>=2->langchain-community==0.0.11) (2.2.1)\n",
      "Requirement already satisfied: certifi>=2017.4.17 in /opt/app-root/lib64/python3.11/site-packages (from requests<3,>=2->langchain-community==0.0.11) (2023.7.22)\n",
      "Requirement already satisfied: greenlet!=0.4.17 in /opt/app-root/lib64/python3.11/site-packages (from SQLAlchemy<3,>=1.4->langchain-community==0.0.11) (2.0.2)\n",
      "Requirement already satisfied: sympy in /opt/app-root/lib64/python3.11/site-packages (from torch>=1.6.0->sentence-transformers) (1.12)\n",
      "Requirement already satisfied: networkx in /opt/app-root/lib64/python3.11/site-packages (from torch>=1.6.0->sentence-transformers) (3.1)\n",
      "Requirement already satisfied: jinja2 in /opt/app-root/lib64/python3.11/site-packages (from torch>=1.6.0->sentence-transformers) (3.1.2)\n",
      "Requirement already satisfied: triton==2.0.0 in /opt/app-root/lib64/python3.11/site-packages (from torch>=1.6.0->sentence-transformers) (2.0.0)\n",
      "Requirement already satisfied: cmake in /opt/app-root/lib64/python3.11/site-packages (from triton==2.0.0->torch>=1.6.0->sentence-transformers) (3.27.5)\n",
      "Requirement already satisfied: lit in /opt/app-root/lib64/python3.11/site-packages (from triton==2.0.0->torch>=1.6.0->sentence-transformers) (17.0.1)\n",
      "Requirement already satisfied: tokenizers!=0.11.3,<0.14,>=0.11.1 in /opt/app-root/lib64/python3.11/site-packages (from transformers<5.0.0,>=4.6.0->sentence-transformers) (0.13.3)\n",
      "Requirement already satisfied: safetensors>=0.3.1 in /opt/app-root/lib64/python3.11/site-packages (from transformers<5.0.0,>=4.6.0->sentence-transformers) (0.3.3)\n",
      "Requirement already satisfied: click in /opt/app-root/lib64/python3.11/site-packages (from nltk->sentence-transformers) (8.1.7)\n",
      "Requirement already satisfied: joblib in /opt/app-root/lib64/python3.11/site-packages (from nltk->sentence-transformers) (1.3.2)\n",
      "Requirement already satisfied: threadpoolctl>=2.0.0 in /opt/app-root/lib64/python3.11/site-packages (from scikit-learn->sentence-transformers) (3.2.0)\n",
      "Requirement already satisfied: pillow!=8.3.*,>=5.3.0 in /opt/app-root/lib64/python3.11/site-packages (from torchvision->sentence-transformers) (10.0.1)\n",
      "Requirement already satisfied: httpcore<0.19.0,>=0.18.0 in /opt/app-root/lib64/python3.11/site-packages (from httpx<1,>=0.23.0->openai<2.0.0,>=1.6.1->langchain-openai==0.0.2.post1) (0.18.0)\n",
      "Requirement already satisfied: mypy-extensions>=0.3.0 in /opt/app-root/lib64/python3.11/site-packages (from typing-inspect<1,>=0.4.0->dataclasses-json<0.7,>=0.5.7->langchain-community==0.0.11) (1.0.0)\n",
      "Requirement already satisfied: MarkupSafe>=2.0 in /opt/app-root/lib64/python3.11/site-packages (from jinja2->torch>=1.6.0->sentence-transformers) (2.1.3)\n",
      "Requirement already satisfied: mpmath>=0.19 in /opt/app-root/lib64/python3.11/site-packages (from sympy->torch>=1.6.0->sentence-transformers) (1.3.0)\n",
      "Requirement already satisfied: h11<0.15,>=0.13 in /opt/app-root/lib64/python3.11/site-packages (from httpcore<0.19.0,>=0.18.0->httpx<1,>=0.23.0->openai<2.0.0,>=1.6.1->langchain-openai==0.0.2.post1) (0.14.0)\n",
      "\n",
      "\u001b[1m[\u001b[0m\u001b[34;49mnotice\u001b[0m\u001b[1;39;49m]\u001b[0m\u001b[39;49m A new release of pip is available: \u001b[0m\u001b[31;49m23.2.1\u001b[0m\u001b[39;49m -> \u001b[0m\u001b[32;49m24.0\u001b[0m\n",
      "\u001b[1m[\u001b[0m\u001b[34;49mnotice\u001b[0m\u001b[1;39;49m]\u001b[0m\u001b[39;49m To update, run: \u001b[0m\u001b[32;49mpip install --upgrade pip\u001b[0m\n"
     ]
    }
   ],
   "source": [
    "!pip install langchain-community==0.0.11 pypdf==3.17.4 langchain==0.1.0 python-dotenv==1.0.0 langchain-openai==0.0.2.post1 faiss-cpu==1.7.4 tiktoken==0.5.2 langchainhub==0.1.14 pip sentence-transformers"
   ]
  },
  {
   "cell_type": "code",
   "execution_count": 2,
   "id": "4b569cf6-a665-4aeb-8cea-d2ec65996eb7",
   "metadata": {},
   "outputs": [],
   "source": [
    "inference_server_url = \"http://hf-tgi.llm-hosting.svc.cluster.local:3000/\"\n",
    "index_name = \"docs\"\n",
    "schema_name = \"redis_schema.yaml\""
   ]
  },
  {
   "cell_type": "code",
   "execution_count": 5,
   "id": "0c488141-e3ed-4544-99e1-26928f867262",
   "metadata": {
    "tags": []
   },
   "outputs": [
    {
     "name": "stdout",
     "output_type": "stream",
     "text": [
      " OpenShift AI is a Red Hat product that provides a platform for deploying, managing, and scaling machine learning (ML) and deep learning (DL) workloads using containers in the Red Hat OpenShift Container Platform. It allows data scientists and ML engineers to build, train, and deploy ML models in a collaborative, scalable, and secure environment, while also integrating with other tools and services in the OpenShift ecosystem for data processing, model serving, and more."
     ]
    }
   ],
   "source": [
    "from langchain import hub\n",
    "from dotenv import load_dotenv\n",
    "from langchain.document_loaders import PyPDFDirectoryLoader\n",
    "from langchain.text_splitter import CharacterTextSplitter\n",
    "from langchain.vectorstores.redis import Redis\n",
    "from langchain.chains import create_retrieval_chain\n",
    "from langchain.chains.combine_documents import create_stuff_documents_chain\n",
    "from langchain_community.embeddings import HuggingFaceEmbeddings\n",
    "from langchain_community.llms import Ollama\n",
    "from langchain.callbacks.streaming_stdout import StreamingStdOutCallbackHandler\n",
    "\n",
    "def main():\n",
    "\n",
    "  load_dotenv()\n",
    "  loader = PyPDFDirectoryLoader('pdf/')  \n",
    "  documents = loader.load()\n",
    "\n",
    "  text_splitter = CharacterTextSplitter(\n",
    "        chunk_size=1000, chunk_overlap=50, separator=\"\\n\")\n",
    "  docs = text_splitter.split_documents(documents)\n",
    "      \n",
    "  retrieval_qa_chat_prompt = hub.pull(\"langchain-ai/retrieval-qa-chat\")\n",
    "\n",
    "  llm = Ollama(\n",
    "    base_url=\"http://ollama.redis.svc.cluster.local:11434\",\n",
    "    model=\"mistral\",\n",
    "    callbacks=[StreamingStdOutCallbackHandler()])  \n",
    "\n",
    "  combine_docs_chain = create_stuff_documents_chain(llm, retrieval_qa_chat_prompt)\n",
    "  combine_docs_chain.invoke({\"context\": docs, \"input\": \"What is OpenShift AI ?\"})\n",
    "\n",
    "if __name__ == \"__main__\":\n",
    "  main()"
   ]
  },
  {
   "cell_type": "code",
   "execution_count": null,
   "id": "8425666a-9b26-4a13-a84e-20b213a7808f",
   "metadata": {},
   "outputs": [],
   "source": []
  }
 ],
 "metadata": {
  "kernelspec": {
   "display_name": "Python 3.11",
   "language": "python",
   "name": "python3"
  },
  "language_info": {
   "codemirror_mode": {
    "name": "ipython",
    "version": 3
   },
   "file_extension": ".py",
   "mimetype": "text/x-python",
   "name": "python",
   "nbconvert_exporter": "python",
   "pygments_lexer": "ipython3",
   "version": "3.11.4"
  }
 },
 "nbformat": 4,
 "nbformat_minor": 5
}
